{
 "cells": [
  {
   "cell_type": "markdown",
   "id": "237799a1-7dc1-4b5f-9930-c2dc86404d4b",
   "metadata": {},
   "source": [
    "## Control flow\n",
    "\n",
    "### Coding lecture"
   ]
  },
  {
   "cell_type": "markdown",
   "id": "c395b493-ee75-4e3f-b4ed-5ba548dc67b5",
   "metadata": {
    "tags": []
   },
   "source": [
    "#### Controlling which statements are executed and in which order\n",
    "\n",
    "Most programming languages offer instruments for deciding which part of the code should be executed, how many times and in which order. Python is not different, and like R the main instruments for regulating the flow of executions are *if statements*, along with *for* and *while loops*.\n"
   ]
  },
  {
   "cell_type": "markdown",
   "id": "cc05e14c-1ff9-487c-b733-eba129226bca",
   "metadata": {},
   "source": [
    "#### If statements\n",
    "\n",
    "The *if* construct allows to define a condition that dictates whether a specific code of block should be executed. Here an example:"
   ]
  },
  {
   "cell_type": "code",
   "execution_count": 1,
   "id": "57e2fe16-c90b-42ce-a0a6-9e8b43511d08",
   "metadata": {},
   "outputs": [
    {
     "name": "stdout",
     "output_type": "stream",
     "text": [
      "15\n"
     ]
    }
   ],
   "source": [
    "x = 5\n",
    "\n",
    "if x > 2 :\n",
    "    x += 10\n",
    "    print(x)\n"
   ]
  },
  {
   "cell_type": "markdown",
   "id": "c5fc56ac-cadd-4332-9932-181237f5ca92",
   "metadata": {},
   "source": [
    "Have you noticed anything particular? \n",
    "\n",
    "***\n",
    "\n",
    "Contrarily to what happens in R, where code blocks are defined through curly brackets, Python uses *indentations* for specifying which lines of code should be executed together. This is a staple of Python syntax, making any code written in this language immediately recognizable, and forcing the users in keeping their code tidy and readable.\n",
    "\n",
    "***\n",
    "\n",
    "Indentations can be written with the `Tab` key on the keyboard or by simply lining up four spaces. The condition that must be satisfied for running the code is contained between the `if` key word and the `:` semicolumn, and once executed should produce a single `True` or `False` value.\n",
    "\n",
    "A direct extension is the *if-then-else* statement, where only of of two mutually exclusibe code blocks is executed."
   ]
  },
  {
   "cell_type": "code",
   "execution_count": 2,
   "id": "7ce29d32-f07e-4e6a-af06-d5dac85adfbb",
   "metadata": {},
   "outputs": [
    {
     "name": "stdout",
     "output_type": "stream",
     "text": [
      "The number is equal or greater than 0\n"
     ]
    }
   ],
   "source": [
    "x = 10\n",
    "if x < 0 :\n",
    "    print('The number is less than 0')\n",
    "else :\n",
    "    print('The number is equal or greater than 0')\n"
   ]
  },
  {
   "cell_type": "markdown",
   "id": "9c0f9d90-9770-4e56-8095-f853d9fc36b3",
   "metadata": {},
   "source": [
    "One more useful construct is the `elif`, which allows to compactly represent several nested if ... else statements\n",
    "\n",
    "Let's see how a nested if-then-else looks like without the `elif` keyword:"
   ]
  },
  {
   "cell_type": "code",
   "execution_count": 3,
   "id": "c176f0c9-bbc3-48d7-a7d5-a63752fcfea3",
   "metadata": {},
   "outputs": [
    {
     "name": "stdout",
     "output_type": "stream",
     "text": [
      "None\n"
     ]
    }
   ],
   "source": [
    "x = None\n",
    "if x == None :\n",
    "    print(x)\n",
    "else :\n",
    "    if x < 0 :\n",
    "        print('The number is less than 0')\n",
    "    else :\n",
    "        print('The number is equal or greater than 0')"
   ]
  },
  {
   "cell_type": "markdown",
   "id": "50e4f718-3eb5-4db8-9a52-59f3b4fe72ba",
   "metadata": {},
   "source": [
    "We can see the use of identation in this case. The block of code that is supposed to be executed is `x` is equal to `None` contains a single line, `print(x)`, which is indented a single time. The block of code that runs if `x` is **not** equal to `None` is composed by a second if-then-else statement, which must be indented for indicating that it is contained within the first if-then-else. Notice that the lines `print('The number is less than 0')` and `print('The number is equal or greater than 0')` are consequently indented twice, once for each nested if-then-else.\n",
    "\n",
    "Let's now see how this same code can be written with `elif`:"
   ]
  },
  {
   "cell_type": "code",
   "execution_count": 4,
   "id": "52a77a99-4073-49e8-8709-79aefd8113e2",
   "metadata": {},
   "outputs": [
    {
     "name": "stdout",
     "output_type": "stream",
     "text": [
      "The number is less than 0\n"
     ]
    }
   ],
   "source": [
    "x = -3\n",
    "if x == None :\n",
    "    print(x)\n",
    "elif x < 0 :\n",
    "    print('The number is less than 0')\n",
    "else :\n",
    "    print('The number is equal or greater than 0')"
   ]
  },
  {
   "cell_type": "markdown",
   "id": "e9b82a43-4aaf-4b33-b279-321eebe03b42",
   "metadata": {},
   "source": [
    "The `elif` keyword has helped in \"straighting up\" the whole expression, transforming the two nested if-then-else in a cascade of alternative code block. You can stack `elif` multiple times:"
   ]
  },
  {
   "cell_type": "code",
   "execution_count": 6,
   "id": "771a33ed-6db5-4ca0-a130-85c00d7ee0b7",
   "metadata": {},
   "outputs": [
    {
     "name": "stdout",
     "output_type": "stream",
     "text": [
      "The number is equal to 0\n"
     ]
    }
   ],
   "source": [
    "x = 0\n",
    "if x == None :\n",
    "    print(x)\n",
    "elif x < 0 :\n",
    "    print('The number is negative')\n",
    "elif x > 0 :\n",
    "    print('The number is positive')\n",
    "else :\n",
    "    print('The number is equal to 0')"
   ]
  },
  {
   "cell_type": "markdown",
   "id": "1947c86a-227c-4a26-b46f-98b000dce1c8",
   "metadata": {},
   "source": [
    "Notably, the `in` operator can be quite when used in conjunction with lists and the `if` statement."
   ]
  },
  {
   "cell_type": "code",
   "execution_count": 7,
   "id": "34b5cde9-9c56-4c38-a89b-3bb87d52736a",
   "metadata": {},
   "outputs": [
    {
     "name": "stdout",
     "output_type": "stream",
     "text": [
      "The element a is present in the list\n"
     ]
    }
   ],
   "source": [
    "if 'a' in ['a', 'b', 'c'] :\n",
    "    print('The element a is present in the list')"
   ]
  },
  {
   "cell_type": "markdown",
   "id": "19066bf0-d5a5-4a78-b1ad-cac8e544a9dc",
   "metadata": {},
   "source": [
    "#### For loops \n",
    "\n",
    "For loops in Python follow the same logic as in other programming languages, including R:"
   ]
  },
  {
   "cell_type": "code",
   "execution_count": 8,
   "id": "8f9c98b5-a9af-4e6e-b41b-e19924a5f4d1",
   "metadata": {},
   "outputs": [
    {
     "name": "stdout",
     "output_type": "stream",
     "text": [
      "The current number is 0\n",
      "If you divide 0 by 2, you will get 0.0\n",
      "The current number is 1\n",
      "If you divide 1 by 2, you will get 0.5\n",
      "The current number is 2\n",
      "If you divide 2 by 2, you will get 1.0\n"
     ]
    }
   ],
   "source": [
    "for i in [0, 1, 2] :\n",
    "    print('The current number is ' + str(i))\n",
    "    x = i / 2\n",
    "    print('If you divide ' + str(i) + ' by 2, you will get ' + str(x))"
   ]
  },
  {
   "cell_type": "markdown",
   "id": "b8555ee2-0e08-403f-b334-7e9222afd81a",
   "metadata": {},
   "source": [
    "There are two important points in the code above:\n",
    "- The expression `i in [0, 1, 2]` defines a list containing the numbers 0, 1 and 2, across which the variable `i` will iterate. Clearly, the operator `in` has a different function here with respect to simply checking if an element is inside a list.\n",
    "- Indentation again plays a relevant role: it defines the code block that will be repeated at each iteration.\n",
    "\n",
    "The function `range` provides a much more common and compact way to define the values to iterate upon:"
   ]
  },
  {
   "cell_type": "code",
   "execution_count": 9,
   "id": "5013c3dc-425c-447a-ba01-c2d0f4432da2",
   "metadata": {},
   "outputs": [
    {
     "name": "stdout",
     "output_type": "stream",
     "text": [
      "The current number is 0\n",
      "The current number is 1\n",
      "The current number is 2\n"
     ]
    }
   ],
   "source": [
    "for i in range(3) :\n",
    "    print('The current number is ' + str(i))"
   ]
  },
  {
   "cell_type": "markdown",
   "id": "f2c87f84-b301-42dc-8496-8b39c35e51e3",
   "metadata": {},
   "source": [
    "Notice how `range` produced a sequence of 3 integer values *starting from zero and excluding the value 3*. This is not by chance: recall that in Python indexing starts from 0. So, the `range` function becomes quite handy if you need to iterate across the indices of a list."
   ]
  },
  {
   "cell_type": "code",
   "execution_count": 10,
   "id": "ae9bb555-d26e-4661-94ce-032a5ddd5563",
   "metadata": {},
   "outputs": [
    {
     "name": "stdout",
     "output_type": "stream",
     "text": [
      "Current index: 0, current value: 3\n",
      "Current index: 1, current value: 6\n",
      "Current index: 2, current value: 9\n",
      "Current index: 3, current value: 12\n"
     ]
    }
   ],
   "source": [
    "# let's create a list first\n",
    "L1 = [3, 6, 9, 12]\n",
    "\n",
    "# let's iterate over it\n",
    "for i in range(len(L1)) :\n",
    "    print('Current index: ' + str(i) + ', current value: ' + str(L1[i]))"
   ]
  },
  {
   "cell_type": "markdown",
   "id": "6b8387c8-a99c-4a18-8af3-6407cfec0671",
   "metadata": {},
   "source": [
    "You can also start from a number different from 0 when using `range`, if you desire:"
   ]
  },
  {
   "cell_type": "code",
   "execution_count": 11,
   "id": "4f0ea643-0e09-4c19-b6be-fd1ff79a0ebc",
   "metadata": {},
   "outputs": [
    {
     "data": {
      "text/plain": [
       "[2, 3, 4, 5, 6, 7, 8, 9]"
      ]
     },
     "execution_count": 11,
     "metadata": {},
     "output_type": "execute_result"
    }
   ],
   "source": [
    "list(range(2,10))"
   ]
  },
  {
   "cell_type": "markdown",
   "id": "38c0073a-0c04-4637-851f-8ea6f7841940",
   "metadata": {},
   "source": [
    "In this case `range` started from 2 up to 9, exactly one value before 10."
   ]
  },
  {
   "cell_type": "markdown",
   "id": "9ce6c587-55ee-453b-9edc-cc0b225edd1a",
   "metadata": {},
   "source": [
    "Finally, let's check For loops and dictionaries can be used together in a rather sinergistic way. Here an example:"
   ]
  },
  {
   "cell_type": "code",
   "execution_count": 12,
   "id": "56b468c6-4e10-488f-b56a-b589d6cc7c7a",
   "metadata": {},
   "outputs": [
    {
     "name": "stdout",
     "output_type": "stream",
     "text": [
      "Key: k1, value: 12\n",
      "Key: k2, value: 6\n",
      "Key: k3, value: 9\n"
     ]
    }
   ],
   "source": [
    "# let's create a dictionary\n",
    "d1 = {'k1':12, 'k2':6, 'k3': 9}\n",
    "\n",
    "# using the dictionary in a for loop\n",
    "for (k,v) in d1.items():\n",
    "    print('Key: ' + k + ', value: ' + str(v))"
   ]
  },
  {
   "cell_type": "markdown",
   "id": "5903c57c-1deb-4422-b8e9-a9423eff3bbb",
   "metadata": {},
   "source": [
    "Let's spend a minute in examining this last for loop. What happened exactly?\n",
    "\n",
    "The `.items()` method gave us access to all pairs of `<key, value>` contained in the dictionary. We then used the tuple `(k, v)` for \"capturing\" these pairs, one for each iteration of the loop. At this point, we can use `(k, v)` as we please inside the loop instructions."
   ]
  },
  {
   "cell_type": "markdown",
   "id": "f4bed3cf-4841-473e-b650-48dbc9c628c5",
   "metadata": {},
   "source": [
    "#### While loops\n",
    "\n",
    "After studying if statements and for loops, while loops' syntax should not be too much of a surprise:"
   ]
  },
  {
   "cell_type": "code",
   "execution_count": 13,
   "id": "f4518746-503a-48a3-b65e-d7a84157a130",
   "metadata": {},
   "outputs": [
    {
     "name": "stdout",
     "output_type": "stream",
     "text": [
      "5\n",
      "4\n",
      "3\n",
      "2\n",
      "1\n"
     ]
    }
   ],
   "source": [
    "x = 5\n",
    "while x > 0 :\n",
    "    print(x)\n",
    "    x -= 1"
   ]
  },
  {
   "cell_type": "markdown",
   "id": "59ac445a-08ca-47c0-8d53-697510873ea4",
   "metadata": {},
   "source": [
    "Notice the use of the assignment operator `x -= 1` within the code block, as a shortcut for `x = x - 1`."
   ]
  },
  {
   "cell_type": "markdown",
   "id": "c1b8a0eb-0867-4f9b-a932-56b71ceeb6c9",
   "metadata": {},
   "source": [
    "#### Break and continue\n",
    "\n",
    "In some cases you may want to skip some of the iterations of your loop, or to interrupt its execution all together. The `continue` and `break` statements help you achieve just that:"
   ]
  },
  {
   "cell_type": "code",
   "execution_count": 14,
   "id": "cb5f5822-be67-4d48-8d69-ffab1b82d6f5",
   "metadata": {},
   "outputs": [
    {
     "name": "stdout",
     "output_type": "stream",
     "text": [
      "0\n",
      "2\n",
      "4\n",
      "6\n",
      "8\n"
     ]
    }
   ],
   "source": [
    "# let's print only the even numbers\n",
    "for i in range(10) :\n",
    "    if i % 2 != 0 :\n",
    "        continue\n",
    "    print(i)"
   ]
  },
  {
   "cell_type": "markdown",
   "id": "8ce1caca-8467-47ec-b3fe-d212a7594b6d",
   "metadata": {},
   "source": [
    "The if statement allows to detect which value is odd, and in case the `continue` statement will interrupt the current iteration before reaching the `print(i)` command, skipping to the next number provided by the range function instead."
   ]
  },
  {
   "cell_type": "code",
   "execution_count": 15,
   "id": "0ebad774-c62f-418c-891c-0533c4c2127c",
   "metadata": {},
   "outputs": [
    {
     "name": "stdout",
     "output_type": "stream",
     "text": [
      "2\n",
      "6\n",
      "4\n"
     ]
    }
   ],
   "source": [
    "# let's print the even numbers up to the first odd one\n",
    "for i in [2, 6, 4, 5, 10] :\n",
    "    if i % 2 != 0 :\n",
    "        break\n",
    "    print(i)"
   ]
  },
  {
   "cell_type": "markdown",
   "id": "df923c5d-38a6-4d14-8e6e-17c78c16f595",
   "metadata": {},
   "source": [
    "This time, the if statement has triggered the `break` command, which interrupted the for loop when the odd number 5 was encountered and before reaching the value 10."
   ]
  }
 ],
 "metadata": {
  "kernelspec": {
   "display_name": "Python 3",
   "language": "python",
   "name": "python3"
  },
  "language_info": {
   "codemirror_mode": {
    "name": "ipython",
    "version": 3
   },
   "file_extension": ".py",
   "mimetype": "text/x-python",
   "name": "python",
   "nbconvert_exporter": "python",
   "pygments_lexer": "ipython3",
   "version": "3.11.4"
  }
 },
 "nbformat": 4,
 "nbformat_minor": 5
}
