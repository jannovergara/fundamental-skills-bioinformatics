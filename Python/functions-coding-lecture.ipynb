{
 "cells": [
  {
   "cell_type": "markdown",
   "id": "237799a1-7dc1-4b5f-9930-c2dc86404d4b",
   "metadata": {},
   "source": [
    "## Functions\n",
    "\n",
    "### Coding lecture"
   ]
  },
  {
   "cell_type": "markdown",
   "id": "c395b493-ee75-4e3f-b4ed-5ba548dc67b5",
   "metadata": {
    "tags": []
   },
   "source": [
    "#### Defining and using functions in Python\n",
    "\n",
    "Python is a multi-paradigm programming language, meaning that you can use it by simply stacking a series of instructions (*imperative/procedural paradigm*), or you can subdivide your code in a set of functions (*functional paradigm*), or you can structure the logic of your program through objects interacting with each other (*object-oriented paradigm*). Here we will discuss how to define and use functions in R. Objected-oriented programming, while generally useful, is outside the scope of this short course.\n",
    "\n",
    "On an intuitive level, functions are useful since they allow to group a parametrize sets of instructions that are often used togheter. In this way you avoid writing, and most importantly, maintaining several copies of the same code.\n",
    "\n",
    "Let's start with a simple function computing the mean between two numbers."
   ]
  },
  {
   "cell_type": "code",
   "execution_count": 1,
   "id": "30f63aaa-484e-41dc-91da-9eaf6a786d09",
   "metadata": {},
   "outputs": [],
   "source": [
    "def mean(a, b) :\n",
    "    tmp = a + b\n",
    "    result = tmp / 2  \n",
    "    return result"
   ]
  },
  {
   "cell_type": "markdown",
   "id": "cc05e14c-1ff9-487c-b733-eba129226bca",
   "metadata": {},
   "source": [
    "Let's dissect the various components of the function above:\n",
    "- We start with the statement `def mean(a, b) :`. This line contains both the name of the function, \"mean\", as well as two arguments, namely \"a\" and \"b\". You can choose the name your prefer for your functions, but we suggest to choose something that well represents its purpose. Also, your function can have as many arguments as you need, whose names you can freely choose.\n",
    "- The susequent instructions are the ones that are executed each time the function is used. Notice again the use of indentation for indicating that these instructions constitute a single code block. \n",
    "- Finally, we `return` statement indicates that the last value stored in the variable `result` is the output of the function.\n",
    "\n",
    "Let's see our new shiny function in action!"
   ]
  },
  {
   "cell_type": "code",
   "execution_count": 2,
   "id": "57e2fe16-c90b-42ce-a0a6-9e8b43511d08",
   "metadata": {},
   "outputs": [
    {
     "data": {
      "text/plain": [
       "8.0"
      ]
     },
     "execution_count": 2,
     "metadata": {},
     "output_type": "execute_result"
    }
   ],
   "source": [
    "mean(5, 11)"
   ]
  },
  {
   "cell_type": "markdown",
   "id": "c5fc56ac-cadd-4332-9932-181237f5ca92",
   "metadata": {},
   "source": [
    "Cool! However, there are several ways to compute the average value between two numbers. The one we just implemented is known as *arithmetic mean*, however other alternatives exist, for example the *harmonic mean*:"
   ]
  },
  {
   "cell_type": "code",
   "execution_count": 3,
   "id": "a7307ad3-8777-4025-bd30-c95fbdf53d3a",
   "metadata": {},
   "outputs": [
    {
     "data": {
      "text/plain": [
       "6.875"
      ]
     },
     "execution_count": 3,
     "metadata": {},
     "output_type": "execute_result"
    }
   ],
   "source": [
    "# let's define a function implementing the harmonic mean!\n",
    "def harmonic_mean(a, b) :\n",
    "    result = 2 / (1 / a + 1/ b)\n",
    "    return result\n",
    "\n",
    "# and let's try it out immediately\n",
    "harmonic_mean(5, 11)"
   ]
  },
  {
   "cell_type": "markdown",
   "id": "6e69af9b-e2ca-417c-aedf-486b1c2cc97c",
   "metadata": {},
   "source": [
    "This is all good and nice, but do we need two distinct functions for the arithmetic and harmonic averages? Can we somehow have both of them implemented in the same functions?\n",
    "\n",
    "Here one possible solution:"
   ]
  },
  {
   "cell_type": "code",
   "execution_count": 4,
   "id": "96263bf3-3185-404a-9fb1-ae56623f8948",
   "metadata": {},
   "outputs": [],
   "source": [
    "def pythagorean_mean(a, b, type) :\n",
    "    if type == 'arithmetic' :\n",
    "        return (a + b) / 2\n",
    "    else :\n",
    "        return  2 / (1 / a + 1/ b)"
   ]
  },
  {
   "cell_type": "markdown",
   "id": "0353a1f4-3455-4ff9-b263-28b72fbbd423",
   "metadata": {},
   "source": [
    "This new `pythagorean_mean` function contains an additional argument, `type`, that allows me to choose the specific average I want to compute."
   ]
  },
  {
   "cell_type": "code",
   "execution_count": 5,
   "id": "7730e9da-07bc-4479-af21-f37d7a2ff177",
   "metadata": {},
   "outputs": [
    {
     "name": "stdout",
     "output_type": "stream",
     "text": [
      "8.0\n",
      "6.875\n"
     ]
    }
   ],
   "source": [
    "# let's try the new function!\n",
    "a = 5\n",
    "b = 11\n",
    "print(pythagorean_mean(a, b, type = 'arithmetic'))\n",
    "print(pythagorean_mean(a, b, type = 'harmonic'))"
   ]
  },
  {
   "cell_type": "markdown",
   "id": "3b56cfc7-e869-4312-b859-7576aab40003",
   "metadata": {},
   "source": [
    "One may argue that the arithmetic mean is way more common than the harmonic one. Can we set the arithmetic mean as the default behaviour for our function?"
   ]
  },
  {
   "cell_type": "code",
   "execution_count": 6,
   "id": "05786e22-e01c-41bc-a3e7-e2ea29fc5f21",
   "metadata": {},
   "outputs": [],
   "source": [
    "def pythagorean_mean(a, b, type = 'arithmetic') :\n",
    "    if type == 'arithmetic' :\n",
    "        return (a + b) / 2\n",
    "    else :\n",
    "        return  2 / (1 / a + 1/ b)"
   ]
  },
  {
   "cell_type": "markdown",
   "id": "18da0978-054f-4ce5-9ef8-1ea66d957d69",
   "metadata": {},
   "source": [
    "Note that now `type` is by default assigned the value `'arithmetic'`. Let's see the new function in action!"
   ]
  },
  {
   "cell_type": "code",
   "execution_count": null,
   "id": "3cf668bd-4cc7-40c6-a3a4-c903a044fcb6",
   "metadata": {},
   "outputs": [],
   "source": [
    "# first we print the same values as before..\n",
    "a = 5\n",
    "b = 11\n",
    "print(pythagorean_mean(a, b, type = 'arithmetic'))\n",
    "print(pythagorean_mean(a, b, type = 'harmonic'))\n",
    "\n",
    "# and now we try NOT to specify the type!\n",
    "print(pythagorean_mean(a, b))"
   ]
  },
  {
   "cell_type": "markdown",
   "id": "bacf96c4-600f-4790-a797-3e2b3aa039dd",
   "metadata": {},
   "source": [
    "Great! Here we saw that `pythagorean_mean(a, b, type = 'arithmetic')` and `pythagorean_mean(a, b)` produces the exact same result, as expected.\n",
    "\n",
    "What if we do not want to choose in advance what type of mean should be compute? Can we just return both of them at the same time? "
   ]
  },
  {
   "cell_type": "code",
   "execution_count": 14,
   "id": "94e3fd04-ebeb-4b9b-82c9-43f2838e377f",
   "metadata": {},
   "outputs": [
    {
     "name": "stdout",
     "output_type": "stream",
     "text": [
      "(8.0, 6.875)\n"
     ]
    }
   ],
   "source": [
    "# new function returning both arithmetic and harmonic mean values\n",
    "def pythagorean_means(a, b) :\n",
    "    arithmetic = (a + b) / 2\n",
    "    harmonic =  2 / (1 / a + 1/ b)\n",
    "    return (arithmetic, harmonic)\n",
    "\n",
    "# trying it out!\n",
    "print(pythagorean_means(a, b))"
   ]
  },
  {
   "cell_type": "markdown",
   "id": "1b276129-2c4d-4d2f-bbf1-565b78710a0c",
   "metadata": {},
   "source": [
    "So, functions can also return multiple outputs. The trick is to return both values within a *tuple*. Of course you could use other data strucctures for the same scope (lists, dictionaries), however using a tuple will make clear that this is the *final* output of the function."
   ]
  },
  {
   "cell_type": "code",
   "execution_count": null,
   "id": "f89633b7-d3cb-4ab6-a4ec-ce441805e754",
   "metadata": {},
   "outputs": [],
   "source": []
  }
 ],
 "metadata": {
  "kernelspec": {
   "display_name": "Python 3",
   "language": "python",
   "name": "python3"
  },
  "language_info": {
   "codemirror_mode": {
    "name": "ipython",
    "version": 3
   },
   "file_extension": ".py",
   "mimetype": "text/x-python",
   "name": "python",
   "nbconvert_exporter": "python",
   "pygments_lexer": "ipython3",
   "version": "3.11.4"
  }
 },
 "nbformat": 4,
 "nbformat_minor": 5
}
