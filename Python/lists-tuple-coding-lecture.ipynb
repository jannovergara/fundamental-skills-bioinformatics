{
 "cells": [
  {
   "cell_type": "markdown",
   "id": "237799a1-7dc1-4b5f-9930-c2dc86404d4b",
   "metadata": {},
   "source": [
    "## Lists and tuples\n",
    "\n",
    "### Coding lecture"
   ]
  },
  {
   "cell_type": "markdown",
   "id": "c395b493-ee75-4e3f-b4ed-5ba548dc67b5",
   "metadata": {
    "tags": []
   },
   "source": [
    "#### Lists\n",
    "\n",
    "Lists are among the most flexible and used data structures in Python. They are ordered collection of elements that can be easily accessed and modified. Here a few examples of lists and how to use them.\n"
   ]
  },
  {
   "cell_type": "code",
   "execution_count": 2,
   "id": "518b6ed5-468a-4a0b-beef-9cbd9de20dfd",
   "metadata": {},
   "outputs": [
    {
     "data": {
      "text/plain": [
       "[3, True, 'abc', 3, 'last']"
      ]
     },
     "execution_count": 2,
     "metadata": {},
     "output_type": "execute_result"
    }
   ],
   "source": [
    "# Creating our first list!\n",
    "L1 = [3, True, \"abc\", 3, 'last']\n",
    "L1"
   ]
  },
  {
   "cell_type": "code",
   "execution_count": 3,
   "id": "0d4ee5e7",
   "metadata": {},
   "outputs": [
    {
     "data": {
      "text/plain": [
       "['text', 3.2, [3, True, 'abc', 3, 'last']]"
      ]
     },
     "execution_count": 3,
     "metadata": {},
     "output_type": "execute_result"
    }
   ],
   "source": [
    "# Lists are so adaptable that you can have lists within lists\n",
    "L2 = [\"text\", 3.2, L1]\n",
    "L2"
   ]
  },
  {
   "cell_type": "code",
   "execution_count": 4,
   "id": "57e2fe16-c90b-42ce-a0a6-9e8b43511d08",
   "metadata": {},
   "outputs": [
    {
     "data": {
      "text/plain": [
       "True"
      ]
     },
     "execution_count": 4,
     "metadata": {},
     "output_type": "execute_result"
    }
   ],
   "source": [
    "# Let's now try to access the first element of L1\n",
    "L1[1]"
   ]
  },
  {
   "cell_type": "markdown",
   "id": "c5fc56ac-cadd-4332-9932-181237f5ca92",
   "metadata": {},
   "source": [
    "**Something went horribly wrong!**\n",
    "\n",
    "How is it possible that `L1[1]` gives `True`? The results should be `3`!\n",
    "\n",
    "Here one important concept to assimilate:\n",
    "\n",
    "***\n",
    "\n",
    "In Python, indices start from 0\n",
    "\n",
    "***\n",
    "\n",
    "Thanks to this new information, let's now try to extract the first value of `L1`"
   ]
  },
  {
   "cell_type": "code",
   "execution_count": 5,
   "id": "7ce29d32-f07e-4e6a-af06-d5dac85adfbb",
   "metadata": {},
   "outputs": [
    {
     "data": {
      "text/plain": [
       "3"
      ]
     },
     "execution_count": 5,
     "metadata": {},
     "output_type": "execute_result"
    }
   ],
   "source": [
    "L1[0]"
   ]
  },
  {
   "cell_type": "markdown",
   "id": "9c0f9d90-9770-4e56-8095-f853d9fc36b3",
   "metadata": {},
   "source": [
    "Success! We finally manage to access the first element of `L1`.\n",
    "\n",
    "The remaining elements of `L1` have progressively incrementing indices:"
   ]
  },
  {
   "cell_type": "code",
   "execution_count": 6,
   "id": "c176f0c9-bbc3-48d7-a7d5-a63752fcfea3",
   "metadata": {},
   "outputs": [
    {
     "name": "stdout",
     "output_type": "stream",
     "text": [
      "3\n",
      "True\n",
      "abc\n",
      "3\n",
      "last\n"
     ]
    }
   ],
   "source": [
    "# Accessing L1 elements one by one:\n",
    "print(L1[0])\n",
    "print(L1[1])\n",
    "print(L1[2])\n",
    "print(L1[3])\n",
    "print(L1[4])"
   ]
  },
  {
   "cell_type": "markdown",
   "id": "50e4f718-3eb5-4db8-9a52-59f3b4fe72ba",
   "metadata": {},
   "source": [
    "Subsets of the list can be accessed as well:"
   ]
  },
  {
   "cell_type": "code",
   "execution_count": 7,
   "id": "52a77a99-4073-49e8-8709-79aefd8113e2",
   "metadata": {},
   "outputs": [
    {
     "data": {
      "text/plain": [
       "[3, True]"
      ]
     },
     "execution_count": 7,
     "metadata": {},
     "output_type": "execute_result"
    }
   ],
   "source": [
    "# Selecting the first two elements of L1\n",
    "L1[0:2]"
   ]
  },
  {
   "cell_type": "markdown",
   "id": "9ec2b97a",
   "metadata": {},
   "source": [
    "One more surprising mechanic: the expression `0:2` allows us to select only the first two elements of `L1`. As a general rule, when we create indices using expressions in the form `n:m`, we create indices that range from `n` to `m-1`"
   ]
  },
  {
   "cell_type": "code",
   "execution_count": 8,
   "id": "5d165982",
   "metadata": {},
   "outputs": [
    {
     "data": {
      "text/plain": [
       "[3, True]"
      ]
     },
     "execution_count": 8,
     "metadata": {},
     "output_type": "execute_result"
    }
   ],
   "source": [
    "# We can also drop the initial 0\n",
    "L1[:2]"
   ]
  },
  {
   "cell_type": "code",
   "execution_count": 9,
   "id": "5e93b700",
   "metadata": {},
   "outputs": [
    {
     "data": {
      "text/plain": [
       "[3, 'last']"
      ]
     },
     "execution_count": 9,
     "metadata": {},
     "output_type": "execute_result"
    }
   ],
   "source": [
    "# What about the last 2 elements?\n",
    "L1[3:5]"
   ]
  },
  {
   "cell_type": "code",
   "execution_count": 10,
   "id": "4df4efa7",
   "metadata": {},
   "outputs": [
    {
     "data": {
      "text/plain": [
       "[3, 'last']"
      ]
     },
     "execution_count": 10,
     "metadata": {},
     "output_type": "execute_result"
    }
   ],
   "source": [
    "# Alternatively we can drop the number after the semicolon if we want to arrive to the end of the list\n",
    "L1[3:]"
   ]
  },
  {
   "cell_type": "markdown",
   "id": "e9b82a43-4aaf-4b33-b279-321eebe03b42",
   "metadata": {},
   "source": [
    "And one more trick! Can we use negative indices? The answer is yes, and we will actually slide *backward*:"
   ]
  },
  {
   "cell_type": "code",
   "execution_count": 11,
   "id": "771a33ed-6db5-4ca0-a130-85c00d7ee0b7",
   "metadata": {},
   "outputs": [
    {
     "data": {
      "text/plain": [
       "'last'"
      ]
     },
     "execution_count": 11,
     "metadata": {},
     "output_type": "execute_result"
    }
   ],
   "source": [
    "# negative index!\n",
    "L1[-1]"
   ]
  },
  {
   "cell_type": "markdown",
   "id": "19066bf0-d5a5-4a78-b1ad-cac8e544a9dc",
   "metadata": {},
   "source": [
    "The key point is to conceive lists as \"containers\", where each element is accommodate in its own little box. Each box can be indicated with non-negative indices, from left to right starting from 0, or with negative indices, from right to left starting with -1. The figure below represents our list `L1`; each element is inside its own box, with the corresponding non-negative index reported on the top and the negative one on the bottom.\n",
    "\n",
    "![Python list indices](indices.svg)"
   ]
  },
  {
   "cell_type": "markdown",
   "id": "9ddf707a",
   "metadata": {},
   "source": [
    "A couple of more things on lists! First, lists can be modified:"
   ]
  },
  {
   "cell_type": "code",
   "execution_count": 12,
   "id": "df37e1c3",
   "metadata": {},
   "outputs": [
    {
     "name": "stdout",
     "output_type": "stream",
     "text": [
      "['text', 3.2, [3, True, 'abc', 3, 'last']]\n",
      "['text', 3.2, False]\n"
     ]
    }
   ],
   "source": [
    "# let's modify L2\n",
    "print(L2)\n",
    "L2[2] = False\n",
    "print(L2)"
   ]
  },
  {
   "cell_type": "markdown",
   "id": "de3c2d70-8ce0-4c4c-a7f8-14a9575aad27",
   "metadata": {},
   "source": [
    "And, last but not least, lists benefits from a number of utility functions and methods!"
   ]
  },
  {
   "cell_type": "code",
   "execution_count": 13,
   "id": "222de71e-0c05-4541-8c3b-b9d0a30ef208",
   "metadata": {},
   "outputs": [
    {
     "data": {
      "text/plain": [
       "5"
      ]
     },
     "execution_count": 13,
     "metadata": {},
     "output_type": "execute_result"
    }
   ],
   "source": [
    "# length of a list\n",
    "len(L1)"
   ]
  },
  {
   "cell_type": "code",
   "execution_count": 14,
   "id": "06eb37cb-07f0-4931-ba4e-475f7972231f",
   "metadata": {},
   "outputs": [
    {
     "name": "stdout",
     "output_type": "stream",
     "text": [
      "[3, True, 'abc', 3, 'last']\n",
      "['last', 3, 'abc', True, 3]\n"
     ]
    }
   ],
   "source": [
    "# reverse a list\n",
    "print(L1)\n",
    "L1.reverse()\n",
    "print(L1)"
   ]
  },
  {
   "cell_type": "code",
   "execution_count": 15,
   "id": "5013c3dc-425c-447a-ba01-c2d0f4432da2",
   "metadata": {},
   "outputs": [
    {
     "data": {
      "text/plain": [
       "['last', 3, 'abc', True, 3, 10]"
      ]
     },
     "execution_count": 15,
     "metadata": {},
     "output_type": "execute_result"
    }
   ],
   "source": [
    "# adding an element to a list\n",
    "L1.append(10)\n",
    "L1"
   ]
  },
  {
   "cell_type": "markdown",
   "id": "914bc468-894b-490b-8b09-c9352b1771c7",
   "metadata": {},
   "source": [
    "Elements can be appended with the `+` operator"
   ]
  },
  {
   "cell_type": "code",
   "execution_count": null,
   "id": "6a2bf5d0",
   "metadata": {},
   "outputs": [],
   "source": [
    "L1 + [False, 4.2]"
   ]
  },
  {
   "cell_type": "markdown",
   "id": "144ec832",
   "metadata": {},
   "source": [
    "Worth mentioning, if you have elements that are all comparable among each other, you can have your list sorted with a single command!"
   ]
  },
  {
   "cell_type": "code",
   "execution_count": null,
   "id": "f879ef6f",
   "metadata": {},
   "outputs": [],
   "source": [
    "# creating a list wih only numbers\n",
    "L3 = [2.1, 9.3, 5, 3.7]\n",
    "L3.sort()\n",
    "L3"
   ]
  },
  {
   "cell_type": "markdown",
   "id": "279adc30-bbb6-44ef-ab86-f69721859792",
   "metadata": {},
   "source": [
    "And finally, the `in` operator provides a very convenient way to check if a given element is inside a list."
   ]
  },
  {
   "cell_type": "code",
   "execution_count": null,
   "id": "e3fb5f45-c9c4-404c-aa41-3c7c173f15ec",
   "metadata": {},
   "outputs": [],
   "source": [
    "# is 9.3 inside L3?\n",
    "9.3 in L3"
   ]
  },
  {
   "cell_type": "markdown",
   "id": "f4bed3cf-4841-473e-b650-48dbc9c628c5",
   "metadata": {},
   "source": [
    "#### Tuples\n",
    "\n",
    "Tuples share much with lists, with the most notable exception that tuples are immutable"
   ]
  },
  {
   "cell_type": "code",
   "execution_count": null,
   "id": "f4518746-503a-48a3-b65e-d7a84157a130",
   "metadata": {},
   "outputs": [],
   "source": [
    "# let's create our first tuple...\n",
    "T1 = (3, True, \"abc\")\n",
    "T1"
   ]
  },
  {
   "cell_type": "code",
   "execution_count": null,
   "id": "7fa5df89-f72d-4bf6-8fae-c8e7612a9c11",
   "metadata": {},
   "outputs": [],
   "source": [
    "# We can access tuples' values as with lists...\n",
    "T1[2]"
   ]
  },
  {
   "cell_type": "code",
   "execution_count": null,
   "id": "cb5f5822-be67-4d48-8d69-ffab1b82d6f5",
   "metadata": {},
   "outputs": [],
   "source": [
    "#... however, no changes are allowed!\n",
    "T1[2] = 'cba'"
   ]
  },
  {
   "cell_type": "markdown",
   "id": "8ce1caca-8467-47ec-b3fe-d212a7594b6d",
   "metadata": {},
   "source": [
    "Tuples have their own specialized applications within Python. One common usage is for returning multiple values at once from a function in a single structure (we will see this in the lesson regarding functions)."
   ]
  },
  {
   "cell_type": "markdown",
   "id": "df923c5d-38a6-4d14-8e6e-17c78c16f595",
   "metadata": {},
   "source": [
    "More information and applications for both lists and tuples are available in [Python's official documentation](https://docs.python.org/)"
   ]
  }
 ],
 "metadata": {
  "kernelspec": {
   "display_name": "Python 3",
   "language": "python",
   "name": "python3"
  },
  "language_info": {
   "codemirror_mode": {
    "name": "ipython",
    "version": 3
   },
   "file_extension": ".py",
   "mimetype": "text/x-python",
   "name": "python",
   "nbconvert_exporter": "python",
   "pygments_lexer": "ipython3",
   "version": "3.11.4"
  }
 },
 "nbformat": 4,
 "nbformat_minor": 5
}
