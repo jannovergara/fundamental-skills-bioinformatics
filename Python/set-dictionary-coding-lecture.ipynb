{
 "cells": [
  {
   "cell_type": "markdown",
   "id": "237799a1-7dc1-4b5f-9930-c2dc86404d4b",
   "metadata": {},
   "source": [
    "## Sets and dictionaries\n",
    "\n",
    "### Coding lecture"
   ]
  },
  {
   "cell_type": "markdown",
   "id": "c395b493-ee75-4e3f-b4ed-5ba548dc67b5",
   "metadata": {
    "tags": []
   },
   "source": [
    "#### Dictionaries\n",
    "\n",
    "In a competition between lists and dictionaries for the most useful data structure in Python, deciding the winner would be a tough call. Dictionaries are unordered collection of elements indexed through keys. Here an example to elucidate this concept:"
   ]
  },
  {
   "cell_type": "code",
   "execution_count": 1,
   "id": "518b6ed5-468a-4a0b-beef-9cbd9de20dfd",
   "metadata": {},
   "outputs": [
    {
     "data": {
      "text/plain": [
       "{'k1': 433, 'second_key': 32.32, '3': True}"
      ]
     },
     "execution_count": 1,
     "metadata": {},
     "output_type": "execute_result"
    }
   ],
   "source": [
    "# Time for our first dictionary!\n",
    "d1 = {'k1':433, 'second_key':32.32, '3':True}\n",
    "d1"
   ]
  },
  {
   "cell_type": "markdown",
   "id": "01c130ca-464f-463e-8b84-7a20ac3a396e",
   "metadata": {},
   "source": [
    "Intuitively, we have stored three values in the dictionary `d1`, namely the integer `433`, the floating value `32.32`, and the value `True`. Each of this value is indexed by a single key: `'k1'` for `433`, `'second_key'` for `32.32`, and `'3'` for `True`.\n",
    "\n",
    "How can we retrieve a specific value stored in a dictionary? Through its key, of course!"
   ]
  },
  {
   "cell_type": "code",
   "execution_count": 2,
   "id": "0d4ee5e7",
   "metadata": {},
   "outputs": [
    {
     "name": "stdout",
     "output_type": "stream",
     "text": [
      "433\n"
     ]
    }
   ],
   "source": [
    "# Retrieving the value corresponding to 'k1'\n",
    "print(d1['k1'])"
   ]
  },
  {
   "cell_type": "markdown",
   "id": "a56eda07-8bb4-47c2-bce2-39529f435a00",
   "metadata": {},
   "source": [
    "However, here's the catch: dictionaries are unordered, meaning that elements cannot be retrieved through their supposed position."
   ]
  },
  {
   "cell_type": "code",
   "execution_count": 3,
   "id": "0c6b4a56-f34b-42ec-a425-416204ae12ec",
   "metadata": {},
   "outputs": [
    {
     "ename": "KeyError",
     "evalue": "0",
     "output_type": "error",
     "traceback": [
      "\u001b[0;31m---------------------------------------------------------------------------\u001b[0m",
      "\u001b[0;31mKeyError\u001b[0m                                  Traceback (most recent call last)",
      "\u001b[1;32m/Users/jannovergara/Documents/Github/fundamental-skills-bioinformatics/Python/set-dictionary-coding-lecture.ipynb Cell 7\u001b[0m line \u001b[0;36m2\n\u001b[1;32m      <a href='vscode-notebook-cell:/Users/jannovergara/Documents/Github/fundamental-skills-bioinformatics/Python/set-dictionary-coding-lecture.ipynb#W6sZmlsZQ%3D%3D?line=0'>1</a>\u001b[0m \u001b[39m# What will this expression return?\u001b[39;00m\n\u001b[0;32m----> <a href='vscode-notebook-cell:/Users/jannovergara/Documents/Github/fundamental-skills-bioinformatics/Python/set-dictionary-coding-lecture.ipynb#W6sZmlsZQ%3D%3D?line=1'>2</a>\u001b[0m \u001b[39mprint\u001b[39m(d1[\u001b[39m0\u001b[39;49m])\n",
      "\u001b[0;31mKeyError\u001b[0m: 0"
     ]
    }
   ],
   "source": [
    "# What will this expression return?\n",
    "print(d1[0])"
   ]
  },
  {
   "cell_type": "markdown",
   "id": "c5fc56ac-cadd-4332-9932-181237f5ca92",
   "metadata": {},
   "source": [
    "What went wrong? Python is informing us that `0` is not a valid key, and thus no value can be retrieved.\n",
    "\n",
    "This naturally leads us to an important question: *how do I know which values are valid keys for a specific dictionary?*\n",
    "\n",
    "The answer is quite simple:"
   ]
  },
  {
   "cell_type": "code",
   "execution_count": 4,
   "id": "7ce29d32-f07e-4e6a-af06-d5dac85adfbb",
   "metadata": {},
   "outputs": [
    {
     "data": {
      "text/plain": [
       "['k1', 'second_key', '3']"
      ]
     },
     "execution_count": 4,
     "metadata": {},
     "output_type": "execute_result"
    }
   ],
   "source": [
    "# Peacking inside the hood looking for keys...\n",
    "list(d1.keys())"
   ]
  },
  {
   "cell_type": "markdown",
   "id": "9c0f9d90-9770-4e56-8095-f853d9fc36b3",
   "metadata": {},
   "source": [
    "The `.keys()` method returns an objects that points to the keys inside the dictionary. This is a very lightweight way to give access to this information, but it is not ideal for immediate visualization, thus we used the function `list()` for forcing Python to copy all the key values and returning them as a list (not reccommended for dictionaries with very large number of keys!).\n",
    "\n",
    "Similarly, we can access all the values in `d1` with the `.values()` method:"
   ]
  },
  {
   "cell_type": "code",
   "execution_count": 5,
   "id": "c176f0c9-bbc3-48d7-a7d5-a63752fcfea3",
   "metadata": {},
   "outputs": [
    {
     "data": {
      "text/plain": [
       "[433, 32.32, True]"
      ]
     },
     "execution_count": 5,
     "metadata": {},
     "output_type": "execute_result"
    }
   ],
   "source": [
    "# ... and now looking for the values!\n",
    "list(d1.values())"
   ]
  },
  {
   "cell_type": "markdown",
   "id": "30844f0c-6712-4e5e-8c4d-e7663242ea92",
   "metadata": {},
   "source": [
    "Some additional remarks on dictionaries:"
   ]
  },
  {
   "cell_type": "code",
   "execution_count": 6,
   "id": "5e93b700",
   "metadata": {},
   "outputs": [
    {
     "name": "stdout",
     "output_type": "stream",
     "text": [
      "433\n",
      "90\n"
     ]
    }
   ],
   "source": [
    "# Dictionaries can be modified\n",
    "print(d1['k1'])\n",
    "d1['k1'] = 90\n",
    "print(d1['k1'])"
   ]
  },
  {
   "cell_type": "code",
   "execution_count": null,
   "id": "4df4efa7",
   "metadata": {},
   "outputs": [],
   "source": [
    "# And new elements can be easily be added\n",
    "d1['fourthElement'] = 'one more value!'\n",
    "d1['fourthElement']\n",
    "d1"
   ]
  },
  {
   "cell_type": "code",
   "execution_count": null,
   "id": "771a33ed-6db5-4ca0-a130-85c00d7ee0b7",
   "metadata": {},
   "outputs": [],
   "source": [
    "# However, no two identical key values are allowed\n",
    "d2 = {'key1':120, 'key1':121}\n",
    "d2"
   ]
  },
  {
   "cell_type": "code",
   "execution_count": null,
   "id": "df37e1c3",
   "metadata": {},
   "outputs": [],
   "source": [
    "# Two different keys can produce an equal value\n",
    "d1['fifthElement'] = 'one more value'\n",
    "d1"
   ]
  },
  {
   "cell_type": "markdown",
   "id": "f4bed3cf-4841-473e-b650-48dbc9c628c5",
   "metadata": {},
   "source": [
    "#### Sets\n",
    "\n",
    "Our last data struture is also the most specialized one. Sets in Python correspond quite faithfully to mathematical sets, in which they are unordered collections of unique items. "
   ]
  },
  {
   "cell_type": "code",
   "execution_count": null,
   "id": "f4518746-503a-48a3-b65e-d7a84157a130",
   "metadata": {},
   "outputs": [],
   "source": [
    "# Time for our first set..\n",
    "s1 = {'a', 'b', 'b', 'c'}\n",
    "s1"
   ]
  },
  {
   "cell_type": "markdown",
   "id": "8ce1caca-8467-47ec-b3fe-d212a7594b6d",
   "metadata": {},
   "source": [
    "Noticed anything? Here a couple of important points:\n",
    "- We tried to sneak two `'b'` values inside the set, but only unique values are allowed, so we ended up with only one `'b'` value\n",
    "- Declaring a set is quite similar to declare a dictionary containing only keys. Similar syntax, and items inside the set must be unique as the keys of a dictionaire"
   ]
  },
  {
   "cell_type": "markdown",
   "id": "bf9aa808-a526-40c6-b65b-1a3084c1ac65",
   "metadata": {},
   "source": [
    "What are the uses of sets? First, modelling: you may want to keep track of real-world things that by their nature are unique, like social security numbers of gene ids. Alternatively, you may need to perform mathematical operations like intersection, union, set difference, and in this case sets are the right tools for you."
   ]
  },
  {
   "cell_type": "code",
   "execution_count": null,
   "id": "0ebad774-c62f-418c-891c-0533c4c2127c",
   "metadata": {},
   "outputs": [],
   "source": [
    "# let's create a second set, partially overlapping with the first one\n",
    "s2 = {'b', 'c', 'd'}\n",
    "\n",
    "# what the union of the two sets will bring us?\n",
    "s1 | s2"
   ]
  },
  {
   "cell_type": "code",
   "execution_count": null,
   "id": "8d7b5811-67bb-4eca-87bd-2f811ca8d36b",
   "metadata": {},
   "outputs": [],
   "source": [
    "# what about their intersection?\n",
    "s1 & s2"
   ]
  },
  {
   "cell_type": "code",
   "execution_count": null,
   "id": "4aeb8410-d937-4aea-8a89-e6c8073759e8",
   "metadata": {},
   "outputs": [],
   "source": [
    "# difference?\n",
    "s1 - s2"
   ]
  },
  {
   "cell_type": "code",
   "execution_count": null,
   "id": "a8be0fb9-2f3f-463d-9f50-7eaac8f9d928",
   "metadata": {},
   "outputs": [],
   "source": [
    "# interestingly, the difference operator is not symmetric!\n",
    "s2 - s1"
   ]
  },
  {
   "cell_type": "code",
   "execution_count": null,
   "id": "e2eacdd7-b8db-413c-88f0-7c282d28891f",
   "metadata": {},
   "outputs": [],
   "source": [
    "# unless you use the \"symmetric difference\" operator, of course!\n",
    "print(s1 ^ s2)\n",
    "print(s2 ^ s1)"
   ]
  },
  {
   "cell_type": "markdown",
   "id": "f6e30dde-4ca2-4f60-b26a-4c580bc0558a",
   "metadata": {},
   "source": [
    "We will deepen our knowledge on dictionaries and sets in our exercise section. For the moment, you may want to visit [Python's official documentation](https://docs.python.org/3/library/stdtypes.html) for more information on the subject."
   ]
  }
 ],
 "metadata": {
  "kernelspec": {
   "display_name": "Python 3",
   "language": "python",
   "name": "python3"
  },
  "language_info": {
   "codemirror_mode": {
    "name": "ipython",
    "version": 3
   },
   "file_extension": ".py",
   "mimetype": "text/x-python",
   "name": "python",
   "nbconvert_exporter": "python",
   "pygments_lexer": "ipython3",
   "version": "3.11.4"
  }
 },
 "nbformat": 4,
 "nbformat_minor": 5
}
