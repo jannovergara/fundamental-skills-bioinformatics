{
 "cells": [
  {
   "cell_type": "markdown",
   "id": "237799a1-7dc1-4b5f-9930-c2dc86404d4b",
   "metadata": {},
   "source": [
    "## The NumPy package\n",
    "\n",
    "### Coding lecture"
   ]
  },
  {
   "cell_type": "markdown",
   "id": "c395b493-ee75-4e3f-b4ed-5ba548dc67b5",
   "metadata": {
    "tags": []
   },
   "source": [
    "#### What is NumPy?\n",
    "\n",
    "NumPy is the Python package of reference for numerical computations. It provides the *array* data structures, the equivalent in Python of mathematical vectors, matrices, and n-dimensional arrays. On top of this, it defines a number of mathematical operators and functions, starting from the basic scalar addition between two vectors, up to linear algebra operations like computing the determinant of a matrix."
   ]
  },
  {
   "cell_type": "markdown",
   "id": "cc05e14c-1ff9-487c-b733-eba129226bca",
   "metadata": {},
   "source": [
    "#### Importing NumPy\n",
    "\n",
    "Before using NumPy, we must *import* it. This is the first time that we use a Python package in the course, so let's see how this works! We will first import the NumPy package, and then we will use one of its functions to create a random number."
   ]
  },
  {
   "cell_type": "code",
   "execution_count": 1,
   "id": "57e2fe16-c90b-42ce-a0a6-9e8b43511d08",
   "metadata": {},
   "outputs": [
    {
     "data": {
      "text/plain": [
       "-0.6094558733737435"
      ]
     },
     "execution_count": 1,
     "metadata": {},
     "output_type": "execute_result"
    }
   ],
   "source": [
    "# importing the NumPy package... yes, it is that easy!\n",
    "import numpy\n",
    "\n",
    "# creating a random number\n",
    "numpy.random.normal(0, 1)"
   ]
  },
  {
   "cell_type": "markdown",
   "id": "df923c5d-38a6-4d14-8e6e-17c78c16f595",
   "metadata": {},
   "source": [
    "The `import numpy` line loaded all functionalities of the package at once. After that, we can use the `normal` function of the `random` module for generating a random value from a normal distribution with zero mean and unitary standard deviation."
   ]
  },
  {
   "cell_type": "markdown",
   "id": "90e47790-0789-41aa-afe2-bff0140f8070",
   "metadata": {},
   "source": [
    "It is common to use aliases so that not to type the whole name of the package each time we need it."
   ]
  },
  {
   "cell_type": "code",
   "execution_count": 2,
   "id": "51cdb87d-53a8-49d3-ae42-fd48552544f8",
   "metadata": {},
   "outputs": [
    {
     "data": {
      "text/plain": [
       "-0.632864619469811"
      ]
     },
     "execution_count": 2,
     "metadata": {},
     "output_type": "execute_result"
    }
   ],
   "source": [
    "# importing NumPy and giving the alias np\n",
    "import numpy as np\n",
    "\n",
    "# one more random number!\n",
    "np.random.normal(0, 1)"
   ]
  },
  {
   "cell_type": "markdown",
   "id": "79c07326-4c5b-4646-8378-7331f3970e42",
   "metadata": {},
   "source": [
    "Finally, you can import only the portion of the package you need."
   ]
  },
  {
   "cell_type": "code",
   "execution_count": 3,
   "id": "076c68a8-100a-4e42-aa3e-20155b114858",
   "metadata": {},
   "outputs": [
    {
     "data": {
      "text/plain": [
       "0.17816613009516855"
      ]
     },
     "execution_count": 3,
     "metadata": {},
     "output_type": "execute_result"
    }
   ],
   "source": [
    "# importing only the random module of NumPy\n",
    "import numpy.random as npr\n",
    "\n",
    "# one more random number!\n",
    "npr.normal(0, 1)"
   ]
  },
  {
   "cell_type": "markdown",
   "id": "c33ba17f-21ae-4fc3-b191-53a34503eabc",
   "metadata": {},
   "source": [
    "Now that we know how to import packages, we can start using them!"
   ]
  },
  {
   "cell_type": "markdown",
   "id": "3f581588-6cbc-48c0-90b0-34054637f223",
   "metadata": {},
   "source": [
    "#### Using NumPy"
   ]
  },
  {
   "cell_type": "markdown",
   "id": "bba54baf-4fa1-438e-860a-c37c937080c6",
   "metadata": {},
   "source": [
    "Let's create our first array!"
   ]
  },
  {
   "cell_type": "code",
   "execution_count": 4,
   "id": "450d7e83-b3ec-4cef-b48e-40ed00fd95f4",
   "metadata": {},
   "outputs": [
    {
     "data": {
      "text/plain": [
       "[2, 3, 5, 4]"
      ]
     },
     "execution_count": 4,
     "metadata": {},
     "output_type": "execute_result"
    }
   ],
   "source": [
    "# first, we will create a list\n",
    "L1 = [2, 3, 5, 4]\n",
    "L1"
   ]
  },
  {
   "cell_type": "code",
   "execution_count": 5,
   "id": "ed3c83a5-7a2a-4010-9eb1-b4cba9444bb0",
   "metadata": {},
   "outputs": [
    {
     "data": {
      "text/plain": [
       "array([2, 3, 5, 4])"
      ]
     },
     "execution_count": 5,
     "metadata": {},
     "output_type": "execute_result"
    }
   ],
   "source": [
    "# and now, we will transform it in an array\n",
    "v1 = np.array(L1)\n",
    "v1"
   ]
  },
  {
   "cell_type": "markdown",
   "id": "a526c68d-cd24-4b4b-ad0d-6ef98086774e",
   "metadata": {},
   "source": [
    "We can already see that arrays and lists *look* different. How this reflects on their behaviour?"
   ]
  },
  {
   "cell_type": "code",
   "execution_count": 6,
   "id": "1c7e31e9-628a-40f0-8b7c-556ede512022",
   "metadata": {},
   "outputs": [
    {
     "data": {
      "text/plain": [
       "array([ 4,  6, 10,  8])"
      ]
     },
     "execution_count": 6,
     "metadata": {},
     "output_type": "execute_result"
    }
   ],
   "source": [
    "# let's multiply our vector by 2\n",
    "v1 * 2"
   ]
  },
  {
   "cell_type": "markdown",
   "id": "346d38ed-6fcf-44f8-be0e-8017e16d51e6",
   "metadata": {
    "tags": []
   },
   "source": [
    "When we multiply an array by 2 we obtain a new array where each component is exactly the same component of the previous array multiplied by two. This is called *scalar multiplication*. This behaviour was expected, since arrays are meant to represent mathematical vectors"
   ]
  },
  {
   "cell_type": "code",
   "execution_count": 7,
   "id": "37cd4a42-5938-454e-b221-035d48d5cfcd",
   "metadata": {},
   "outputs": [
    {
     "data": {
      "text/plain": [
       "[2, 3, 5, 4, 2, 3, 5, 4]"
      ]
     },
     "execution_count": 7,
     "metadata": {},
     "output_type": "execute_result"
    }
   ],
   "source": [
    "# what happens when we multiply L1 by 2\n",
    "L1 * 2"
   ]
  },
  {
   "cell_type": "markdown",
   "id": "2aeafd85-22c9-4a15-9654-c6941426dec2",
   "metadata": {},
   "source": [
    "When the `*` operator is applied to a list, it duplicates the elements in the list. This is a reminder of how different lists are from arrays: the first are ordered collections of items, not necessarily all of numeric type, while the second are meant to primarily represents vectors."
   ]
  },
  {
   "cell_type": "code",
   "execution_count": 8,
   "id": "a95ffc5a-e084-4295-b01a-160ae58e724c",
   "metadata": {},
   "outputs": [
    {
     "data": {
      "text/plain": [
       "array([ 4,  9, 25, 16])"
      ]
     },
     "execution_count": 8,
     "metadata": {},
     "output_type": "execute_result"
    }
   ],
   "source": [
    "# one more example: exponentiation\n",
    "v1 ** 2"
   ]
  },
  {
   "cell_type": "code",
   "execution_count": 9,
   "id": "05fe47eb-3d49-45db-8067-0eef64ee1a8c",
   "metadata": {},
   "outputs": [
    {
     "ename": "TypeError",
     "evalue": "unsupported operand type(s) for ** or pow(): 'list' and 'int'",
     "output_type": "error",
     "traceback": [
      "\u001b[0;31m---------------------------------------------------------------------------\u001b[0m",
      "\u001b[0;31mTypeError\u001b[0m                                 Traceback (most recent call last)",
      "\u001b[1;32m/Users/jannovergara/Documents/Github/fundamental-skills-bioinformatics/Python/numpy-coding-lecture.ipynb Cell 21\u001b[0m line \u001b[0;36m1\n\u001b[0;32m----> <a href='vscode-notebook-cell:/Users/jannovergara/Documents/Github/fundamental-skills-bioinformatics/Python/numpy-coding-lecture.ipynb#X26sZmlsZQ%3D%3D?line=0'>1</a>\u001b[0m L1 \u001b[39m*\u001b[39;49m\u001b[39m*\u001b[39;49m \u001b[39m2\u001b[39;49m\n",
      "\u001b[0;31mTypeError\u001b[0m: unsupported operand type(s) for ** or pow(): 'list' and 'int'"
     ]
    }
   ],
   "source": [
    "L1 ** 2"
   ]
  },
  {
   "cell_type": "markdown",
   "id": "49ab31ce-f03b-4906-9faf-d63d59e1e9e5",
   "metadata": {},
   "source": [
    "This is even more apparent with exponentiation: while this again works as a regular scalar operation on arrays, there is no built-in behaviour for lists, and an error is generated"
   ]
  },
  {
   "cell_type": "markdown",
   "id": "40d2c739-697a-47d3-ab98-512efc5aa67f",
   "metadata": {},
   "source": [
    "In general, all basic operations works at a scalar levels with arrays."
   ]
  },
  {
   "cell_type": "code",
   "execution_count": 10,
   "id": "68f6b58b-6b16-42cb-abb7-57cc1ccdd70e",
   "metadata": {},
   "outputs": [],
   "source": [
    "# let's create one more vector\n",
    "v2 = np.array([7, 8, 10, 9])"
   ]
  },
  {
   "cell_type": "code",
   "execution_count": 11,
   "id": "89d73537-0f26-427d-bd15-75c5ec9b9b93",
   "metadata": {},
   "outputs": [
    {
     "data": {
      "text/plain": [
       "array([2, 3, 5, 4])"
      ]
     },
     "execution_count": 11,
     "metadata": {},
     "output_type": "execute_result"
    }
   ],
   "source": [
    "v1"
   ]
  },
  {
   "cell_type": "code",
   "execution_count": 12,
   "id": "b0071331-fb1a-4813-89e8-41028cc91e61",
   "metadata": {},
   "outputs": [
    {
     "name": "stdout",
     "output_type": "stream",
     "text": [
      "[ 9 11 15 13]\n"
     ]
    }
   ],
   "source": [
    "# addition\n",
    "print(v1 + v2)"
   ]
  },
  {
   "cell_type": "code",
   "execution_count": 13,
   "id": "76661b4e-4a9f-4c7e-a515-303c758432fe",
   "metadata": {},
   "outputs": [
    {
     "name": "stdout",
     "output_type": "stream",
     "text": [
      "[-5 -5 -5 -5]\n"
     ]
    }
   ],
   "source": [
    "# subtraction\n",
    "print(v1 - v2)"
   ]
  },
  {
   "cell_type": "code",
   "execution_count": 14,
   "id": "cf1accd4-18a1-43a4-b868-ae335169338f",
   "metadata": {},
   "outputs": [
    {
     "name": "stdout",
     "output_type": "stream",
     "text": [
      "[14 24 50 36]\n"
     ]
    }
   ],
   "source": [
    "# multiplication\n",
    "print(v1 * v2)"
   ]
  },
  {
   "cell_type": "code",
   "execution_count": 15,
   "id": "f5538f76-fb79-49ca-aa84-88915c8dc0ad",
   "metadata": {},
   "outputs": [
    {
     "name": "stdout",
     "output_type": "stream",
     "text": [
      "[0.28571429 0.375      0.5        0.44444444]\n"
     ]
    }
   ],
   "source": [
    "# division\n",
    "print(v1 / v2)"
   ]
  },
  {
   "cell_type": "code",
   "execution_count": 16,
   "id": "563b0a4b-2708-4a4c-a057-42bbfb5a3cc7",
   "metadata": {},
   "outputs": [
    {
     "name": "stdout",
     "output_type": "stream",
     "text": [
      "[    128    6561 9765625  262144]\n"
     ]
    }
   ],
   "source": [
    "# exponentiation\n",
    "print(v1 ** v2)"
   ]
  },
  {
   "cell_type": "code",
   "execution_count": 17,
   "id": "fa5404c2-f767-44aa-836c-2d78ad0ce778",
   "metadata": {},
   "outputs": [
    {
     "name": "stdout",
     "output_type": "stream",
     "text": [
      "[1.28571429 1.375      1.5        1.44444444]\n"
     ]
    }
   ],
   "source": [
    "# and of course, this operation can be combined. Here we first perform the operation in parenthesis and then the division\n",
    "print((v1 + v2) / v2)"
   ]
  },
  {
   "cell_type": "markdown",
   "id": "95fae07c-16fa-4150-8cdc-9754a254de5a",
   "metadata": {},
   "source": [
    "As everything else in Python, NumPy arrays are *objets*. This means that they have *attributes* and *methods*. An important attribute is `shape`"
   ]
  },
  {
   "cell_type": "code",
   "execution_count": 18,
   "id": "46293d1f-e7ab-4210-931f-0a59a1ad92c3",
   "metadata": {},
   "outputs": [
    {
     "data": {
      "text/plain": [
       "(4,)"
      ]
     },
     "execution_count": 18,
     "metadata": {},
     "output_type": "execute_result"
    }
   ],
   "source": [
    "# shape of v1\n",
    "v1.shape"
   ]
  },
  {
   "cell_type": "markdown",
   "id": "48ad8bc6-00ed-4804-8bd0-f950be057374",
   "metadata": {},
   "source": [
    "The results, `(4,)`, indicates that the vector `v1` has only one dimension, and four elements in total. We can use the attribute `shape` for changing the number of dimension of the object."
   ]
  },
  {
   "cell_type": "code",
   "execution_count": 19,
   "id": "a3589e89-3454-4c47-8c91-d64102138208",
   "metadata": {},
   "outputs": [
    {
     "name": "stdout",
     "output_type": "stream",
     "text": [
      "[[2 3]\n",
      " [5 4]]\n"
     ]
    }
   ],
   "source": [
    "# adding one more dimension to v1\n",
    "v1.shape = (2, 2)\n",
    "print(v1)"
   ]
  },
  {
   "cell_type": "markdown",
   "id": "d6248373-ed08-413e-aebe-570bd3deac63",
   "metadata": {},
   "source": [
    "We just obtained our first matrix in Python, by reshaping the vector `v1` in a two dimensional array. Notice that the total number of elements remained the same. We can obtain a similar results by using the `reshape` *method* instead."
   ]
  },
  {
   "cell_type": "code",
   "execution_count": 20,
   "id": "c6ad04fa-b3f6-45a7-9895-b629ac4bed25",
   "metadata": {},
   "outputs": [
    {
     "name": "stdout",
     "output_type": "stream",
     "text": [
      "[2 3 5 4]\n"
     ]
    }
   ],
   "source": [
    "# let's make v1 a vector again\n",
    "v1.shape = (4,)\n",
    "print(v1)"
   ]
  },
  {
   "cell_type": "code",
   "execution_count": 21,
   "id": "66bc8061-fc01-453c-bd07-4bfd22296f04",
   "metadata": {},
   "outputs": [
    {
     "name": "stdout",
     "output_type": "stream",
     "text": [
      "[[2 3]\n",
      " [5 4]]\n"
     ]
    }
   ],
   "source": [
    "# and let's create a new matrix, m1\n",
    "m1 = v1.reshape(2,2)\n",
    "print(m1)"
   ]
  },
  {
   "cell_type": "markdown",
   "id": "e8816e54-021a-49d1-93f9-392b823e9332",
   "metadata": {},
   "source": [
    "We created a matrix, by using the `reshape` method that can be invoked by any array and returns a *new* array."
   ]
  },
  {
   "cell_type": "markdown",
   "id": "a45f3ac7-907a-4f74-b982-b08f38497ae1",
   "metadata": {},
   "source": [
    "Not all array methods return a new object. Some of them operate *inplace*, meaning that they directly modify the array that invokes them."
   ]
  },
  {
   "cell_type": "code",
   "execution_count": 22,
   "id": "591ce8c2-2321-457a-a85c-ba67e3f8a26d",
   "metadata": {},
   "outputs": [
    {
     "name": "stdout",
     "output_type": "stream",
     "text": [
      "[2 3 5 4]\n",
      "sorting...\n",
      "[2 3 4 5]\n"
     ]
    }
   ],
   "source": [
    "# sorting the v1 vector\n",
    "print(v1)\n",
    "print('sorting...')\n",
    "v1.sort()\n",
    "print(v1)"
   ]
  },
  {
   "cell_type": "markdown",
   "id": "0b98374b-6732-4155-9233-d6d40aa07b90",
   "metadata": {},
   "source": [
    "The `v1.sort()` statement did not return any value, however it changed the order to the elements inside `v1`"
   ]
  },
  {
   "cell_type": "markdown",
   "id": "cd30d2a7-8e01-4e93-b2e1-ed0d327ef2e9",
   "metadata": {},
   "source": [
    "***\n",
    "\n",
    "NumPy provides a truly huge amount of methods and functions. In this course we will barely scratch the surface of what NumPy can actually do. If you are wondering if NumPy offers a specific functionality that you need, you can consult the [official documentation](https://numpy.org/doc/stable/)\n",
    "\n",
    "***\n"
   ]
  },
  {
   "cell_type": "markdown",
   "id": "a2180bf4-1bbb-4424-aa53-a51b53238b38",
   "metadata": {},
   "source": [
    "One important issue that should always be considered in numerical computation is the presence of non-finite values. These can be missing value or infinite quantities. NumPy provides way to represent and deal with these types of values."
   ]
  },
  {
   "cell_type": "code",
   "execution_count": 23,
   "id": "8d944af2-3f37-4741-a3e3-b94055e7760c",
   "metadata": {},
   "outputs": [
    {
     "name": "stdout",
     "output_type": "stream",
     "text": [
      "[ 2. nan  4.  8. inf]\n"
     ]
    }
   ],
   "source": [
    "# let's create a new vector with both infinite and missing values\n",
    "v3 = np.array([2, np.NaN, 4, 8, np.Inf])\n",
    "print(v3)"
   ]
  },
  {
   "cell_type": "markdown",
   "id": "9508e339-c348-44f2-b66b-b9b6b3e83449",
   "metadata": {},
   "source": [
    "Here, `np.NaN` stands for \"not a number\", and indicates a value that is missing. `np.Inf` instead indicates an infinite quantity.\n",
    "\n",
    "What will happen if we try to compute the mean of such a vector?"
   ]
  },
  {
   "cell_type": "code",
   "execution_count": 24,
   "id": "f075dc35-5c32-4b6e-9b68-1d228e33d8bb",
   "metadata": {},
   "outputs": [
    {
     "data": {
      "text/plain": [
       "nan"
      ]
     },
     "execution_count": 24,
     "metadata": {},
     "output_type": "execute_result"
    }
   ],
   "source": [
    "# using the mean method on v3\n",
    "v3.mean()"
   ]
  },
  {
   "cell_type": "markdown",
   "id": "b2475bdc-3e2e-406e-8f97-2368c747231f",
   "metadata": {},
   "source": [
    "The presence of non-finite values implies that the results will also be non-finite.\n",
    "\n",
    "A common way to deal with this scenario is to exclude the non-finite values from the computation"
   ]
  },
  {
   "cell_type": "code",
   "execution_count": 25,
   "id": "409aa508-92e4-4695-aac0-1f255e5fff1b",
   "metadata": {},
   "outputs": [
    {
     "name": "stdout",
     "output_type": "stream",
     "text": [
      "[ True False  True  True False]\n"
     ]
    }
   ],
   "source": [
    "# idenfiy the index of finite values\n",
    "idx = np.isfinite(v3)\n",
    "print(idx)"
   ]
  },
  {
   "cell_type": "markdown",
   "id": "1f0541be-090c-4985-9d71-c9b57fe08915",
   "metadata": {},
   "source": [
    "The `idx` vector can now be used for single out the finite part of `v3`"
   ]
  },
  {
   "cell_type": "code",
   "execution_count": 26,
   "id": "97b8e090-3215-435b-8dea-ae5a2d89f036",
   "metadata": {},
   "outputs": [
    {
     "data": {
      "text/plain": [
       "4.666666666666667"
      ]
     },
     "execution_count": 26,
     "metadata": {},
     "output_type": "execute_result"
    }
   ],
   "source": [
    "# computing the mean on the finite part of v3\n",
    "v3[idx].mean()"
   ]
  },
  {
   "cell_type": "markdown",
   "id": "fc03e968-301b-4fd4-aa8a-27ee771df53b",
   "metadata": {},
   "source": [
    "Finally, let's have a peak to some of NumPy more advanced functionalities. An important module is `linalg`."
   ]
  },
  {
   "cell_type": "code",
   "execution_count": 27,
   "id": "98ff0daf-6211-4254-a817-76ef17e44faf",
   "metadata": {},
   "outputs": [
    {
     "data": {
      "text/plain": [
       "-2.0"
      ]
     },
     "execution_count": 27,
     "metadata": {},
     "output_type": "execute_result"
    }
   ],
   "source": [
    "# let's use the linalg module to compute m1 determinant\n",
    "np.linalg.det(m1)"
   ]
  },
  {
   "cell_type": "code",
   "execution_count": 28,
   "id": "c5f34518-7abf-4831-bbc9-1d4e1b75a755",
   "metadata": {},
   "outputs": [
    {
     "data": {
      "text/plain": [
       "array([[-2.5,  1.5],\n",
       "       [ 2. , -1. ]])"
      ]
     },
     "execution_count": 28,
     "metadata": {},
     "output_type": "execute_result"
    }
   ],
   "source": [
    "# and now let's compute the inverse of m1\n",
    "np.linalg.inv(m1)"
   ]
  },
  {
   "cell_type": "markdown",
   "id": "2bb65592-a7b4-493d-af75-ce1803e5da72",
   "metadata": {},
   "source": [
    "As you can see, complext mathematical operations can be performed with a single line with NumPy. Whenever you need such types of computations in Python, check first the [online documentation](https://numpy.org/doc/stable/) first for methods or functions that directly implement the algorithm you need, or that at least allow you to implement it in a easier way."
   ]
  }
 ],
 "metadata": {
  "kernelspec": {
   "display_name": "Python 3",
   "language": "python",
   "name": "python3"
  },
  "language_info": {
   "codemirror_mode": {
    "name": "ipython",
    "version": 3
   },
   "file_extension": ".py",
   "mimetype": "text/x-python",
   "name": "python",
   "nbconvert_exporter": "python",
   "pygments_lexer": "ipython3",
   "version": "3.11.4"
  }
 },
 "nbformat": 4,
 "nbformat_minor": 5
}
