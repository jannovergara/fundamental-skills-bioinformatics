{
 "cells": [
  {
   "cell_type": "markdown",
   "id": "bfb6dcd9-4898-4189-bb00-4eb930777394",
   "metadata": {},
   "source": [
    "## The anndata package\n",
    "\n",
    "### Coding lecture"
   ]
  },
  {
   "cell_type": "markdown",
   "id": "2e6cb486-2d3a-43c9-8257-e97b93d6e95c",
   "metadata": {},
   "source": [
    "#### What is anndata?\n",
    "\n",
    "anndata stands for \"Annotated Data\". It is a Python package that allows to represent gene expression values, sample/gene metadata, and even results from a single-cell RNA-seq experiment within a single Python object. The main advantage of this approach is a uniform, coherent representaton of all different types of information. Let's see what this means in practice!"
   ]
  },
  {
   "cell_type": "code",
   "execution_count": 1,
   "id": "edf1be46-6a6d-4aae-b4d5-5f951dee6a9e",
   "metadata": {},
   "outputs": [],
   "source": [
    "# importing anndata\n",
    "import anndata as ad\n",
    "\n",
    "# importing numpy and pandas as well\n",
    "import numpy as np\n",
    "import pandas as pd"
   ]
  },
  {
   "cell_type": "markdown",
   "id": "e52ba7f6-fc38-4f8f-9026-2b201ea57778",
   "metadata": {},
   "source": [
    "We will now import a subset of the single cell data from the T-cell use case. The data are stored in a compressed format that is optimized for the scRNA-seq experiments."
   ]
  },
  {
   "cell_type": "code",
   "execution_count": 2,
   "id": "4e208260-ea0f-4515-8d34-a6acf26ca45d",
   "metadata": {},
   "outputs": [
    {
     "data": {
      "text/plain": [
       "AnnData object with n_obs × n_vars = 5016 × 20953\n",
       "    obs: 'cell.type', 'cytokine.condition', 'donor.id', 'batch.10X', 'nGene', 'nUMI', 'percent.mito', 'S.Score', 'G2M.Score', 'Phase', 'cluster.id', 'effectorness'"
      ]
     },
     "execution_count": 2,
     "metadata": {},
     "output_type": "execute_result"
    }
   ],
   "source": [
    "# importing scRNA-seq data from a .h5ad file\n",
    "scdr = ad.read_h5ad('py-data/scdr.h5ad')\n",
    "scdr"
   ]
  },
  {
   "cell_type": "markdown",
   "id": "c09b01c6-0a66-473e-b874-4b2d0fe9af37",
   "metadata": {
    "tags": []
   },
   "source": [
    "Let's dissect this first batch of information. The standard printout of the anndata object shows that the transcriptomics profiles of 5016 cells (denoted as \"observations\", `obs`) are present. Each profile is composed by 20953 gene expression values, or variables in anndata's terminology. We also have the metadata data frame `obs`, which contains several colums: 'cell.type', 'cytokine.condition', 'donor.id', 'batch.10X', 'nGene', etc. "
   ]
  },
  {
   "cell_type": "markdown",
   "id": "2932327f-2102-49d1-bd67-dce117e722cf",
   "metadata": {},
   "source": [
    "Let's first check the gene expression data that are contained in the `X` sparse matrix:"
   ]
  },
  {
   "cell_type": "code",
   "execution_count": 3,
   "id": "87a6f68e-d2cc-47d5-8496-3d01773068fb",
   "metadata": {},
   "outputs": [
    {
     "data": {
      "text/plain": [
       "<5016x20953 sparse matrix of type '<class 'numpy.float32'>'\n",
       "\twith 5709539 stored elements in Compressed Sparse Column format>"
      ]
     },
     "execution_count": 3,
     "metadata": {},
     "output_type": "execute_result"
    }
   ],
   "source": [
    "# matrix containing the gene expression values\n",
    "scdr.X"
   ]
  },
  {
   "cell_type": "markdown",
   "id": "90604a0f-96c9-4379-8a67-e9ba75441ba0",
   "metadata": {},
   "source": [
    "Not much to see here, at a first glance at least. The key point is that expression values in single cell experiments are very sparse, i.e., most of the genes have no expression in most of the cells. In these cases it is much more efficient to store only the values that are different from zeros (approx. 5 millions values in our case),rather than the whole matrix with 5016 x 20953 = 105100248 values. \n",
    "\n",
    "Let's check what are the highest levels of expressions:"
   ]
  },
  {
   "cell_type": "code",
   "execution_count": 5,
   "id": "88fdefd5-0aff-4a1b-b592-cc72a65b1f59",
   "metadata": {},
   "outputs": [
    {
     "data": {
      "text/plain": [
       "array([1130.,  981.,  955.,  911.,  887.,  883.,  859.,  832.,  830.,\n",
       "        810.], dtype=float32)"
      ]
     },
     "execution_count": 5,
     "metadata": {},
     "output_type": "execute_result"
    }
   ],
   "source": [
    "# first 10 highest expression values. \n",
    "np.flip(np.sort(scdr.X.data))[range(10)]"
   ]
  },
  {
   "cell_type": "markdown",
   "id": "309e75f1-541b-4fcb-80a9-63ba989e8eeb",
   "metadata": {},
   "source": [
    "We see that the highest expression values across all genes and genes are between 800 / 1100 reads."
   ]
  },
  {
   "cell_type": "markdown",
   "id": "1940f3e2-de91-47f1-9ecb-5a5fe7bb5b58",
   "metadata": {},
   "source": [
    "Let's now check the `obs` data frame"
   ]
  },
  {
   "cell_type": "code",
   "execution_count": 6,
   "id": "c2b9ed5f-eaad-4056-8a8c-1a17d1e8b188",
   "metadata": {},
   "outputs": [
    {
     "data": {
      "text/html": [
       "<div>\n",
       "<style scoped>\n",
       "    .dataframe tbody tr th:only-of-type {\n",
       "        vertical-align: middle;\n",
       "    }\n",
       "\n",
       "    .dataframe tbody tr th {\n",
       "        vertical-align: top;\n",
       "    }\n",
       "\n",
       "    .dataframe thead th {\n",
       "        text-align: right;\n",
       "    }\n",
       "</style>\n",
       "<table border=\"1\" class=\"dataframe\">\n",
       "  <thead>\n",
       "    <tr style=\"text-align: right;\">\n",
       "      <th></th>\n",
       "      <th>cell.type</th>\n",
       "      <th>cytokine.condition</th>\n",
       "      <th>donor.id</th>\n",
       "      <th>batch.10X</th>\n",
       "      <th>nGene</th>\n",
       "      <th>nUMI</th>\n",
       "      <th>percent.mito</th>\n",
       "      <th>S.Score</th>\n",
       "      <th>G2M.Score</th>\n",
       "      <th>Phase</th>\n",
       "      <th>cluster.id</th>\n",
       "      <th>effectorness</th>\n",
       "    </tr>\n",
       "  </thead>\n",
       "  <tbody>\n",
       "    <tr>\n",
       "      <th>N_resting_AAACCTGAGCTGTCTA</th>\n",
       "      <td>Naive</td>\n",
       "      <td>UNS</td>\n",
       "      <td>D4</td>\n",
       "      <td>2</td>\n",
       "      <td>1163</td>\n",
       "      <td>4172</td>\n",
       "      <td>0.023496</td>\n",
       "      <td>-0.134199</td>\n",
       "      <td>-0.159211</td>\n",
       "      <td>G1</td>\n",
       "      <td>TN (resting)</td>\n",
       "      <td>0.151812</td>\n",
       "    </tr>\n",
       "    <tr>\n",
       "      <th>N_resting_AAACCTGTCACCACCT</th>\n",
       "      <td>Naive</td>\n",
       "      <td>UNS</td>\n",
       "      <td>D4</td>\n",
       "      <td>2</td>\n",
       "      <td>1037</td>\n",
       "      <td>3690</td>\n",
       "      <td>0.020867</td>\n",
       "      <td>-0.101756</td>\n",
       "      <td>-0.203707</td>\n",
       "      <td>G1</td>\n",
       "      <td>TN (resting)</td>\n",
       "      <td>0.031763</td>\n",
       "    </tr>\n",
       "    <tr>\n",
       "      <th>N_resting_AAACCTGTCCGTTGTC</th>\n",
       "      <td>Naive</td>\n",
       "      <td>UNS</td>\n",
       "      <td>D2</td>\n",
       "      <td>2</td>\n",
       "      <td>1245</td>\n",
       "      <td>4446</td>\n",
       "      <td>0.027903</td>\n",
       "      <td>-0.145131</td>\n",
       "      <td>-0.164210</td>\n",
       "      <td>G1</td>\n",
       "      <td>TN (resting)</td>\n",
       "      <td>0.113897</td>\n",
       "    </tr>\n",
       "    <tr>\n",
       "      <th>N_resting_AAACGGGAGGGTTCCC</th>\n",
       "      <td>Naive</td>\n",
       "      <td>UNS</td>\n",
       "      <td>D4</td>\n",
       "      <td>2</td>\n",
       "      <td>1016</td>\n",
       "      <td>3913</td>\n",
       "      <td>0.011509</td>\n",
       "      <td>-0.069492</td>\n",
       "      <td>-0.190810</td>\n",
       "      <td>G1</td>\n",
       "      <td>TN (resting)</td>\n",
       "      <td>0.341240</td>\n",
       "    </tr>\n",
       "    <tr>\n",
       "      <th>N_resting_AAACGGGCAACAACCT</th>\n",
       "      <td>Naive</td>\n",
       "      <td>UNS</td>\n",
       "      <td>D1</td>\n",
       "      <td>2</td>\n",
       "      <td>1005</td>\n",
       "      <td>3557</td>\n",
       "      <td>0.039640</td>\n",
       "      <td>-0.124007</td>\n",
       "      <td>-0.143379</td>\n",
       "      <td>G1</td>\n",
       "      <td>TN (resting)</td>\n",
       "      <td>0.019741</td>\n",
       "    </tr>\n",
       "    <tr>\n",
       "      <th>...</th>\n",
       "      <td>...</td>\n",
       "      <td>...</td>\n",
       "      <td>...</td>\n",
       "      <td>...</td>\n",
       "      <td>...</td>\n",
       "      <td>...</td>\n",
       "      <td>...</td>\n",
       "      <td>...</td>\n",
       "      <td>...</td>\n",
       "      <td>...</td>\n",
       "      <td>...</td>\n",
       "      <td>...</td>\n",
       "    </tr>\n",
       "    <tr>\n",
       "      <th>M_resting_r2_TGCTGCTCAATGTAAG</th>\n",
       "      <td>Memory</td>\n",
       "      <td>UNS</td>\n",
       "      <td>D4</td>\n",
       "      <td>2</td>\n",
       "      <td>1235</td>\n",
       "      <td>2936</td>\n",
       "      <td>0.031357</td>\n",
       "      <td>-0.160865</td>\n",
       "      <td>-0.179502</td>\n",
       "      <td>G1</td>\n",
       "      <td>TCM (resting)</td>\n",
       "      <td>0.729563</td>\n",
       "    </tr>\n",
       "    <tr>\n",
       "      <th>M_resting_r2_CAGCCGATCAGTTTGG</th>\n",
       "      <td>Memory</td>\n",
       "      <td>UNS</td>\n",
       "      <td>D3</td>\n",
       "      <td>2</td>\n",
       "      <td>1128</td>\n",
       "      <td>3690</td>\n",
       "      <td>0.027672</td>\n",
       "      <td>-0.064889</td>\n",
       "      <td>-0.172590</td>\n",
       "      <td>G1</td>\n",
       "      <td>TN (resting)</td>\n",
       "      <td>0.255955</td>\n",
       "    </tr>\n",
       "    <tr>\n",
       "      <th>M_resting_r1_AGAGCTTCATCTCCCA</th>\n",
       "      <td>Memory</td>\n",
       "      <td>UNS</td>\n",
       "      <td>D2</td>\n",
       "      <td>2</td>\n",
       "      <td>1058</td>\n",
       "      <td>3222</td>\n",
       "      <td>0.038820</td>\n",
       "      <td>-0.078151</td>\n",
       "      <td>-0.206662</td>\n",
       "      <td>G1</td>\n",
       "      <td>TCM (resting)</td>\n",
       "      <td>0.478484</td>\n",
       "    </tr>\n",
       "    <tr>\n",
       "      <th>M_resting_r2_AAGCCGCCATCGTCGG</th>\n",
       "      <td>Memory</td>\n",
       "      <td>UNS</td>\n",
       "      <td>D2</td>\n",
       "      <td>2</td>\n",
       "      <td>1188</td>\n",
       "      <td>3892</td>\n",
       "      <td>0.036999</td>\n",
       "      <td>-0.155572</td>\n",
       "      <td>-0.139277</td>\n",
       "      <td>G1</td>\n",
       "      <td>TEM (resting)</td>\n",
       "      <td>0.813737</td>\n",
       "    </tr>\n",
       "    <tr>\n",
       "      <th>M_resting_r2_CACCAGGAGTGGCACA</th>\n",
       "      <td>Memory</td>\n",
       "      <td>UNS</td>\n",
       "      <td>D1</td>\n",
       "      <td>2</td>\n",
       "      <td>919</td>\n",
       "      <td>1998</td>\n",
       "      <td>0.001515</td>\n",
       "      <td>-0.034627</td>\n",
       "      <td>-0.063464</td>\n",
       "      <td>G1</td>\n",
       "      <td>TCM (resting)</td>\n",
       "      <td>0.307760</td>\n",
       "    </tr>\n",
       "  </tbody>\n",
       "</table>\n",
       "<p>5016 rows × 12 columns</p>\n",
       "</div>"
      ],
      "text/plain": [
       "                              cell.type cytokine.condition donor.id  \\\n",
       "N_resting_AAACCTGAGCTGTCTA        Naive                UNS       D4   \n",
       "N_resting_AAACCTGTCACCACCT        Naive                UNS       D4   \n",
       "N_resting_AAACCTGTCCGTTGTC        Naive                UNS       D2   \n",
       "N_resting_AAACGGGAGGGTTCCC        Naive                UNS       D4   \n",
       "N_resting_AAACGGGCAACAACCT        Naive                UNS       D1   \n",
       "...                                 ...                ...      ...   \n",
       "M_resting_r2_TGCTGCTCAATGTAAG    Memory                UNS       D4   \n",
       "M_resting_r2_CAGCCGATCAGTTTGG    Memory                UNS       D3   \n",
       "M_resting_r1_AGAGCTTCATCTCCCA    Memory                UNS       D2   \n",
       "M_resting_r2_AAGCCGCCATCGTCGG    Memory                UNS       D2   \n",
       "M_resting_r2_CACCAGGAGTGGCACA    Memory                UNS       D1   \n",
       "\n",
       "                               batch.10X  nGene  nUMI  percent.mito   S.Score  \\\n",
       "N_resting_AAACCTGAGCTGTCTA             2   1163  4172      0.023496 -0.134199   \n",
       "N_resting_AAACCTGTCACCACCT             2   1037  3690      0.020867 -0.101756   \n",
       "N_resting_AAACCTGTCCGTTGTC             2   1245  4446      0.027903 -0.145131   \n",
       "N_resting_AAACGGGAGGGTTCCC             2   1016  3913      0.011509 -0.069492   \n",
       "N_resting_AAACGGGCAACAACCT             2   1005  3557      0.039640 -0.124007   \n",
       "...                                  ...    ...   ...           ...       ...   \n",
       "M_resting_r2_TGCTGCTCAATGTAAG          2   1235  2936      0.031357 -0.160865   \n",
       "M_resting_r2_CAGCCGATCAGTTTGG          2   1128  3690      0.027672 -0.064889   \n",
       "M_resting_r1_AGAGCTTCATCTCCCA          2   1058  3222      0.038820 -0.078151   \n",
       "M_resting_r2_AAGCCGCCATCGTCGG          2   1188  3892      0.036999 -0.155572   \n",
       "M_resting_r2_CACCAGGAGTGGCACA          2    919  1998      0.001515 -0.034627   \n",
       "\n",
       "                               G2M.Score Phase     cluster.id  effectorness  \n",
       "N_resting_AAACCTGAGCTGTCTA     -0.159211    G1   TN (resting)      0.151812  \n",
       "N_resting_AAACCTGTCACCACCT     -0.203707    G1   TN (resting)      0.031763  \n",
       "N_resting_AAACCTGTCCGTTGTC     -0.164210    G1   TN (resting)      0.113897  \n",
       "N_resting_AAACGGGAGGGTTCCC     -0.190810    G1   TN (resting)      0.341240  \n",
       "N_resting_AAACGGGCAACAACCT     -0.143379    G1   TN (resting)      0.019741  \n",
       "...                                  ...   ...            ...           ...  \n",
       "M_resting_r2_TGCTGCTCAATGTAAG  -0.179502    G1  TCM (resting)      0.729563  \n",
       "M_resting_r2_CAGCCGATCAGTTTGG  -0.172590    G1   TN (resting)      0.255955  \n",
       "M_resting_r1_AGAGCTTCATCTCCCA  -0.206662    G1  TCM (resting)      0.478484  \n",
       "M_resting_r2_AAGCCGCCATCGTCGG  -0.139277    G1  TEM (resting)      0.813737  \n",
       "M_resting_r2_CACCAGGAGTGGCACA  -0.063464    G1  TCM (resting)      0.307760  \n",
       "\n",
       "[5016 rows x 12 columns]"
      ]
     },
     "execution_count": 6,
     "metadata": {},
     "output_type": "execute_result"
    }
   ],
   "source": [
    "# obs data frame\n",
    "scdr.obs"
   ]
  },
  {
   "cell_type": "markdown",
   "id": "248a4490-abcd-45a6-8db6-54b658fdc4df",
   "metadata": {},
   "source": [
    "The `obs` data frame contains one row for each cell, and each column provides information on a different aspects of the cells. For example, the \"cell.type\" column allows to distinguish between Naive and Memory T-cells, while \"cluster.id\" identifies the specific cell type more in detail. Usually, these types of information are not readily available when scRNA-seq data are produced; in this case, they were derived in the original study."
   ]
  },
  {
   "cell_type": "markdown",
   "id": "dc624fc4-37f8-431b-89ff-75beee942054",
   "metadata": {},
   "source": [
    "On a side note, the anndata package using pandas for representing tabular data makes a lot of sense, given the versatility of pandas data frames. In general, one advantage of Python and of programming in general is that well-written, useful modules can then be reused as building-block for future packages."
   ]
  },
  {
   "cell_type": "markdown",
   "id": "cef75d1d-ceae-447d-bbb4-5d6a747154bc",
   "metadata": {},
   "source": [
    "#### Using an anndata object"
   ]
  },
  {
   "cell_type": "markdown",
   "id": "b816dd9f-c64b-4bfc-8316-34ca9d0f715f",
   "metadata": {},
   "source": [
    "The information in `obs` can be used for narrowing down the scope of our analysis by subsetting the anndata object. We will now retain only the Naive cells:"
   ]
  },
  {
   "cell_type": "code",
   "execution_count": 7,
   "id": "6cae2ac4-b2fa-4e4a-911b-60404449a903",
   "metadata": {},
   "outputs": [
    {
     "data": {
      "text/plain": [
       "View of AnnData object with n_obs × n_vars = 2141 × 20953\n",
       "    obs: 'cell.type', 'cytokine.condition', 'donor.id', 'batch.10X', 'nGene', 'nUMI', 'percent.mito', 'S.Score', 'G2M.Score', 'Phase', 'cluster.id', 'effectorness'"
      ]
     },
     "execution_count": 7,
     "metadata": {},
     "output_type": "execute_result"
    }
   ],
   "source": [
    "# selecting only Naive T-cells\n",
    "ids = scdr.obs['cell.type'] == 'Naive'\n",
    "scdr = scdr[ids, :]\n",
    "scdr"
   ]
  },
  {
   "cell_type": "markdown",
   "id": "e2358791-d76a-49e0-90d1-10883cf11b9b",
   "metadata": {},
   "source": [
    "We see that `scdr` now contains only the 2141 Naive cells. Let's check the `obs` data frame:"
   ]
  },
  {
   "cell_type": "code",
   "execution_count": 8,
   "id": "09e5ac07-e408-498a-a345-0df1d229c04c",
   "metadata": {},
   "outputs": [
    {
     "data": {
      "text/html": [
       "<div>\n",
       "<style scoped>\n",
       "    .dataframe tbody tr th:only-of-type {\n",
       "        vertical-align: middle;\n",
       "    }\n",
       "\n",
       "    .dataframe tbody tr th {\n",
       "        vertical-align: top;\n",
       "    }\n",
       "\n",
       "    .dataframe thead th {\n",
       "        text-align: right;\n",
       "    }\n",
       "</style>\n",
       "<table border=\"1\" class=\"dataframe\">\n",
       "  <thead>\n",
       "    <tr style=\"text-align: right;\">\n",
       "      <th></th>\n",
       "      <th>cell.type</th>\n",
       "      <th>cytokine.condition</th>\n",
       "      <th>donor.id</th>\n",
       "      <th>batch.10X</th>\n",
       "      <th>nGene</th>\n",
       "      <th>nUMI</th>\n",
       "      <th>percent.mito</th>\n",
       "      <th>S.Score</th>\n",
       "      <th>G2M.Score</th>\n",
       "      <th>Phase</th>\n",
       "      <th>cluster.id</th>\n",
       "      <th>effectorness</th>\n",
       "    </tr>\n",
       "  </thead>\n",
       "  <tbody>\n",
       "    <tr>\n",
       "      <th>N_resting_AAACCTGAGCTGTCTA</th>\n",
       "      <td>Naive</td>\n",
       "      <td>UNS</td>\n",
       "      <td>D4</td>\n",
       "      <td>2</td>\n",
       "      <td>1163</td>\n",
       "      <td>4172</td>\n",
       "      <td>0.023496</td>\n",
       "      <td>-0.134199</td>\n",
       "      <td>-0.159211</td>\n",
       "      <td>G1</td>\n",
       "      <td>TN (resting)</td>\n",
       "      <td>0.151812</td>\n",
       "    </tr>\n",
       "    <tr>\n",
       "      <th>N_resting_AAACCTGTCACCACCT</th>\n",
       "      <td>Naive</td>\n",
       "      <td>UNS</td>\n",
       "      <td>D4</td>\n",
       "      <td>2</td>\n",
       "      <td>1037</td>\n",
       "      <td>3690</td>\n",
       "      <td>0.020867</td>\n",
       "      <td>-0.101756</td>\n",
       "      <td>-0.203707</td>\n",
       "      <td>G1</td>\n",
       "      <td>TN (resting)</td>\n",
       "      <td>0.031763</td>\n",
       "    </tr>\n",
       "    <tr>\n",
       "      <th>N_resting_AAACCTGTCCGTTGTC</th>\n",
       "      <td>Naive</td>\n",
       "      <td>UNS</td>\n",
       "      <td>D2</td>\n",
       "      <td>2</td>\n",
       "      <td>1245</td>\n",
       "      <td>4446</td>\n",
       "      <td>0.027903</td>\n",
       "      <td>-0.145131</td>\n",
       "      <td>-0.164210</td>\n",
       "      <td>G1</td>\n",
       "      <td>TN (resting)</td>\n",
       "      <td>0.113897</td>\n",
       "    </tr>\n",
       "    <tr>\n",
       "      <th>N_resting_AAACGGGAGGGTTCCC</th>\n",
       "      <td>Naive</td>\n",
       "      <td>UNS</td>\n",
       "      <td>D4</td>\n",
       "      <td>2</td>\n",
       "      <td>1016</td>\n",
       "      <td>3913</td>\n",
       "      <td>0.011509</td>\n",
       "      <td>-0.069492</td>\n",
       "      <td>-0.190810</td>\n",
       "      <td>G1</td>\n",
       "      <td>TN (resting)</td>\n",
       "      <td>0.341240</td>\n",
       "    </tr>\n",
       "    <tr>\n",
       "      <th>N_resting_AAACGGGCAACAACCT</th>\n",
       "      <td>Naive</td>\n",
       "      <td>UNS</td>\n",
       "      <td>D1</td>\n",
       "      <td>2</td>\n",
       "      <td>1005</td>\n",
       "      <td>3557</td>\n",
       "      <td>0.039640</td>\n",
       "      <td>-0.124007</td>\n",
       "      <td>-0.143379</td>\n",
       "      <td>G1</td>\n",
       "      <td>TN (resting)</td>\n",
       "      <td>0.019741</td>\n",
       "    </tr>\n",
       "    <tr>\n",
       "      <th>...</th>\n",
       "      <td>...</td>\n",
       "      <td>...</td>\n",
       "      <td>...</td>\n",
       "      <td>...</td>\n",
       "      <td>...</td>\n",
       "      <td>...</td>\n",
       "      <td>...</td>\n",
       "      <td>...</td>\n",
       "      <td>...</td>\n",
       "      <td>...</td>\n",
       "      <td>...</td>\n",
       "      <td>...</td>\n",
       "    </tr>\n",
       "    <tr>\n",
       "      <th>N_resting_TTTGCGCAGGAGTCTG</th>\n",
       "      <td>Naive</td>\n",
       "      <td>UNS</td>\n",
       "      <td>D1</td>\n",
       "      <td>2</td>\n",
       "      <td>980</td>\n",
       "      <td>3233</td>\n",
       "      <td>0.046720</td>\n",
       "      <td>-0.048484</td>\n",
       "      <td>-0.172172</td>\n",
       "      <td>G1</td>\n",
       "      <td>TEMRA (resting)</td>\n",
       "      <td>0.837294</td>\n",
       "    </tr>\n",
       "    <tr>\n",
       "      <th>N_resting_TTTGTCAAGGATCGCA</th>\n",
       "      <td>Naive</td>\n",
       "      <td>UNS</td>\n",
       "      <td>D1</td>\n",
       "      <td>2</td>\n",
       "      <td>754</td>\n",
       "      <td>2016</td>\n",
       "      <td>0.051091</td>\n",
       "      <td>-0.122710</td>\n",
       "      <td>-0.161167</td>\n",
       "      <td>G1</td>\n",
       "      <td>TEMRA (resting)</td>\n",
       "      <td>0.903606</td>\n",
       "    </tr>\n",
       "    <tr>\n",
       "      <th>N_resting_TTTGTCAGTCCGTCAG</th>\n",
       "      <td>Naive</td>\n",
       "      <td>UNS</td>\n",
       "      <td>D1</td>\n",
       "      <td>2</td>\n",
       "      <td>964</td>\n",
       "      <td>2725</td>\n",
       "      <td>0.037826</td>\n",
       "      <td>-0.109837</td>\n",
       "      <td>-0.196064</td>\n",
       "      <td>G1</td>\n",
       "      <td>TEMRA (resting)</td>\n",
       "      <td>0.914887</td>\n",
       "    </tr>\n",
       "    <tr>\n",
       "      <th>N_resting_TTTGTCAGTGCTTCTC</th>\n",
       "      <td>Naive</td>\n",
       "      <td>UNS</td>\n",
       "      <td>D1</td>\n",
       "      <td>2</td>\n",
       "      <td>1027</td>\n",
       "      <td>3003</td>\n",
       "      <td>0.052316</td>\n",
       "      <td>-0.144304</td>\n",
       "      <td>-0.225455</td>\n",
       "      <td>G1</td>\n",
       "      <td>TEMRA (resting)</td>\n",
       "      <td>0.869464</td>\n",
       "    </tr>\n",
       "    <tr>\n",
       "      <th>N_resting_TACGGTACATCGATGT</th>\n",
       "      <td>Naive</td>\n",
       "      <td>UNS</td>\n",
       "      <td>D2</td>\n",
       "      <td>2</td>\n",
       "      <td>1267</td>\n",
       "      <td>2428</td>\n",
       "      <td>0.014421</td>\n",
       "      <td>-0.094698</td>\n",
       "      <td>-0.127492</td>\n",
       "      <td>G1</td>\n",
       "      <td>TCM (resting)</td>\n",
       "      <td>0.465100</td>\n",
       "    </tr>\n",
       "  </tbody>\n",
       "</table>\n",
       "<p>2141 rows × 12 columns</p>\n",
       "</div>"
      ],
      "text/plain": [
       "                           cell.type cytokine.condition donor.id  batch.10X  \\\n",
       "N_resting_AAACCTGAGCTGTCTA     Naive                UNS       D4          2   \n",
       "N_resting_AAACCTGTCACCACCT     Naive                UNS       D4          2   \n",
       "N_resting_AAACCTGTCCGTTGTC     Naive                UNS       D2          2   \n",
       "N_resting_AAACGGGAGGGTTCCC     Naive                UNS       D4          2   \n",
       "N_resting_AAACGGGCAACAACCT     Naive                UNS       D1          2   \n",
       "...                              ...                ...      ...        ...   \n",
       "N_resting_TTTGCGCAGGAGTCTG     Naive                UNS       D1          2   \n",
       "N_resting_TTTGTCAAGGATCGCA     Naive                UNS       D1          2   \n",
       "N_resting_TTTGTCAGTCCGTCAG     Naive                UNS       D1          2   \n",
       "N_resting_TTTGTCAGTGCTTCTC     Naive                UNS       D1          2   \n",
       "N_resting_TACGGTACATCGATGT     Naive                UNS       D2          2   \n",
       "\n",
       "                            nGene  nUMI  percent.mito   S.Score  G2M.Score  \\\n",
       "N_resting_AAACCTGAGCTGTCTA   1163  4172      0.023496 -0.134199  -0.159211   \n",
       "N_resting_AAACCTGTCACCACCT   1037  3690      0.020867 -0.101756  -0.203707   \n",
       "N_resting_AAACCTGTCCGTTGTC   1245  4446      0.027903 -0.145131  -0.164210   \n",
       "N_resting_AAACGGGAGGGTTCCC   1016  3913      0.011509 -0.069492  -0.190810   \n",
       "N_resting_AAACGGGCAACAACCT   1005  3557      0.039640 -0.124007  -0.143379   \n",
       "...                           ...   ...           ...       ...        ...   \n",
       "N_resting_TTTGCGCAGGAGTCTG    980  3233      0.046720 -0.048484  -0.172172   \n",
       "N_resting_TTTGTCAAGGATCGCA    754  2016      0.051091 -0.122710  -0.161167   \n",
       "N_resting_TTTGTCAGTCCGTCAG    964  2725      0.037826 -0.109837  -0.196064   \n",
       "N_resting_TTTGTCAGTGCTTCTC   1027  3003      0.052316 -0.144304  -0.225455   \n",
       "N_resting_TACGGTACATCGATGT   1267  2428      0.014421 -0.094698  -0.127492   \n",
       "\n",
       "                           Phase       cluster.id  effectorness  \n",
       "N_resting_AAACCTGAGCTGTCTA    G1     TN (resting)      0.151812  \n",
       "N_resting_AAACCTGTCACCACCT    G1     TN (resting)      0.031763  \n",
       "N_resting_AAACCTGTCCGTTGTC    G1     TN (resting)      0.113897  \n",
       "N_resting_AAACGGGAGGGTTCCC    G1     TN (resting)      0.341240  \n",
       "N_resting_AAACGGGCAACAACCT    G1     TN (resting)      0.019741  \n",
       "...                          ...              ...           ...  \n",
       "N_resting_TTTGCGCAGGAGTCTG    G1  TEMRA (resting)      0.837294  \n",
       "N_resting_TTTGTCAAGGATCGCA    G1  TEMRA (resting)      0.903606  \n",
       "N_resting_TTTGTCAGTCCGTCAG    G1  TEMRA (resting)      0.914887  \n",
       "N_resting_TTTGTCAGTGCTTCTC    G1  TEMRA (resting)      0.869464  \n",
       "N_resting_TACGGTACATCGATGT    G1    TCM (resting)      0.465100  \n",
       "\n",
       "[2141 rows x 12 columns]"
      ]
     },
     "execution_count": 8,
     "metadata": {},
     "output_type": "execute_result"
    }
   ],
   "source": [
    "# how many rows on obs are left now?\n",
    "scdr.obs"
   ]
  },
  {
   "cell_type": "markdown",
   "id": "d348da26-c7ee-4b6b-b8c3-4f29977e3382",
   "metadata": {},
   "source": [
    "Here an important point: *subsetting the anndata object with the command `scdr = scdr[ids, :]` has modified both the gene expression matrix X and the metadata data frame `obs`*. This is the essence of having a single, unified object for representing all information produced in a scRNA-seq experiments: changes are automatically propagated through all the relevant data and metadata in a coherent way."
   ]
  },
  {
   "cell_type": "markdown",
   "id": "c4be05eb-18df-4179-b07c-c18827a8487a",
   "metadata": {},
   "source": [
    "Let's now add another type of metadata to the `scdr` object: the `var` data frame that contains information on each single gene. For this, we will first compute the total number of reads for each gene across all cells"
   ]
  },
  {
   "cell_type": "code",
   "execution_count": 9,
   "id": "9d0d913a-43a4-44a2-9341-ef5483c2bb3e",
   "metadata": {},
   "outputs": [
    {
     "data": {
      "text/plain": [
       "matrix([[  3., 263.,  97., ...,   0.,   0.,   0.]], dtype=float32)"
      ]
     },
     "execution_count": 9,
     "metadata": {},
     "output_type": "execute_result"
    }
   ],
   "source": [
    "# summing over the first axis / dimension\n",
    "num_reads = scdr.X.sum(axis=0)\n",
    "num_reads"
   ]
  },
  {
   "cell_type": "markdown",
   "id": "2b868762-9449-4b32-9613-cf9d001e52e8",
   "metadata": {},
   "source": [
    "Let's now create the `var` data frame:"
   ]
  },
  {
   "cell_type": "code",
   "execution_count": 10,
   "id": "fdfe023a-4b0f-46e1-9aaf-38f9d77e46b8",
   "metadata": {},
   "outputs": [
    {
     "data": {
      "text/html": [
       "<div>\n",
       "<style scoped>\n",
       "    .dataframe tbody tr th:only-of-type {\n",
       "        vertical-align: middle;\n",
       "    }\n",
       "\n",
       "    .dataframe tbody tr th {\n",
       "        vertical-align: top;\n",
       "    }\n",
       "\n",
       "    .dataframe thead th {\n",
       "        text-align: right;\n",
       "    }\n",
       "</style>\n",
       "<table border=\"1\" class=\"dataframe\">\n",
       "  <thead>\n",
       "    <tr style=\"text-align: right;\">\n",
       "      <th></th>\n",
       "      <th>num_reads</th>\n",
       "    </tr>\n",
       "  </thead>\n",
       "  <tbody>\n",
       "    <tr>\n",
       "      <th>RP11-34P13.7</th>\n",
       "      <td>3.0</td>\n",
       "    </tr>\n",
       "    <tr>\n",
       "      <th>FO538757.2</th>\n",
       "      <td>263.0</td>\n",
       "    </tr>\n",
       "    <tr>\n",
       "      <th>AP006222.2</th>\n",
       "      <td>97.0</td>\n",
       "    </tr>\n",
       "    <tr>\n",
       "      <th>RP4-669L17.10</th>\n",
       "      <td>9.0</td>\n",
       "    </tr>\n",
       "    <tr>\n",
       "      <th>RP11-206L10.9</th>\n",
       "      <td>39.0</td>\n",
       "    </tr>\n",
       "    <tr>\n",
       "      <th>...</th>\n",
       "      <td>...</td>\n",
       "    </tr>\n",
       "    <tr>\n",
       "      <th>MEF2B</th>\n",
       "      <td>0.0</td>\n",
       "    </tr>\n",
       "    <tr>\n",
       "      <th>AC002398.12</th>\n",
       "      <td>0.0</td>\n",
       "    </tr>\n",
       "    <tr>\n",
       "      <th>AC005625.1</th>\n",
       "      <td>0.0</td>\n",
       "    </tr>\n",
       "    <tr>\n",
       "      <th>AC115522.3</th>\n",
       "      <td>0.0</td>\n",
       "    </tr>\n",
       "    <tr>\n",
       "      <th>KCNJ6</th>\n",
       "      <td>0.0</td>\n",
       "    </tr>\n",
       "  </tbody>\n",
       "</table>\n",
       "<p>20953 rows × 1 columns</p>\n",
       "</div>"
      ],
      "text/plain": [
       "               num_reads\n",
       "RP11-34P13.7         3.0\n",
       "FO538757.2         263.0\n",
       "AP006222.2          97.0\n",
       "RP4-669L17.10        9.0\n",
       "RP11-206L10.9       39.0\n",
       "...                  ...\n",
       "MEF2B                0.0\n",
       "AC002398.12          0.0\n",
       "AC005625.1           0.0\n",
       "AC115522.3           0.0\n",
       "KCNJ6                0.0\n",
       "\n",
       "[20953 rows x 1 columns]"
      ]
     },
     "execution_count": 10,
     "metadata": {},
     "output_type": "execute_result"
    }
   ],
   "source": [
    "# creating the vars data frame\n",
    "scdr.var = pd.DataFrame({'num_reads':np.array(num_reads).flatten()}, index=scdr.var_names)\n",
    "scdr.var"
   ]
  },
  {
   "cell_type": "markdown",
   "id": "f6371f71-9017-4ddc-8bf0-a9072bbd2bce",
   "metadata": {},
   "source": [
    "We now have one more metadata information, this time focusing on characterizing genes, not cells. This change is of course also reflected in the anndata object standard printout, with `var` appearing right below `obs`."
   ]
  },
  {
   "cell_type": "code",
   "execution_count": 11,
   "id": "ea7edb75-36f9-4d22-81da-46aca5f503d6",
   "metadata": {},
   "outputs": [
    {
     "data": {
      "text/plain": [
       "AnnData object with n_obs × n_vars = 2141 × 20953\n",
       "    obs: 'cell.type', 'cytokine.condition', 'donor.id', 'batch.10X', 'nGene', 'nUMI', 'percent.mito', 'S.Score', 'G2M.Score', 'Phase', 'cluster.id', 'effectorness'\n",
       "    var: 'num_reads'"
      ]
     },
     "execution_count": 11,
     "metadata": {},
     "output_type": "execute_result"
    }
   ],
   "source": [
    "# showing scdr content\n",
    "scdr"
   ]
  },
  {
   "cell_type": "markdown",
   "id": "2f69f66a-8685-4420-9c58-845f6e53f6a8",
   "metadata": {},
   "source": [
    "Many more types of information can be stored within an anndata object. We will see most of them during the next coding lessons, when we will start preprocessing the data."
   ]
  },
  {
   "cell_type": "markdown",
   "id": "45128c61-88b8-449d-af23-7024e8502210",
   "metadata": {},
   "source": [
    "#### Reading / writing anndata objects"
   ]
  },
  {
   "cell_type": "markdown",
   "id": "9ce01bd0-028c-45a9-aebb-5aa4c574d97d",
   "metadata": {},
   "source": [
    "We already used the `read_h5ad` function for reading an anndata object saved in a binary file based on the hdf5 format. You can also use the `write_h5ad` function for creating a similar file for our current `scdr` object:"
   ]
  },
  {
   "cell_type": "code",
   "execution_count": 12,
   "id": "9f06b2c3-a599-4f35-bcce-118c188fb98d",
   "metadata": {},
   "outputs": [
    {
     "data": {
      "text/plain": [
       "['scdr_naive_cells.h5ad']"
      ]
     },
     "execution_count": 12,
     "metadata": {},
     "output_type": "execute_result"
    }
   ],
   "source": [
    "# let's import the os module for managing files and directories\n",
    "import os\n",
    "\n",
    "# creating a directory for storing the new data\n",
    "if not os.path.exists('output_data'): \n",
    "    os.makedirs('output_data')\n",
    "\n",
    "# writing h5ad objects\n",
    "scdr.write_h5ad('output_data/scdr_naive_cells.h5ad')\n",
    "\n",
    "# check the content of the directory\n",
    "os.listdir('output_data')"
   ]
  },
  {
   "cell_type": "markdown",
   "id": "a68de1a4-b410-4f6d-9542-db278eec40bb",
   "metadata": {},
   "source": [
    "The hdf5 format is unparalled in terms of reading / writing speed, especially for very large files. However, if you want to store your anndata object in comma separate values (csv) files, you can use the `write_csvs` function:"
   ]
  },
  {
   "cell_type": "code",
   "execution_count": 13,
   "id": "173fc4ec-40fc-467a-bc68-0d05a71c511f",
   "metadata": {},
   "outputs": [
    {
     "data": {
      "text/plain": [
       "['obs.csv', 'obsm.csv', 'var.csv', 'varm.csv', 'uns']"
      ]
     },
     "execution_count": 13,
     "metadata": {},
     "output_type": "execute_result"
    }
   ],
   "source": [
    "# using the write_csv function:\n",
    "scdr.write_csvs('output_data/csvs', skip_data=True)\n",
    "\n",
    "# listing all written files\n",
    "os.listdir('output_data/csvs')"
   ]
  },
  {
   "cell_type": "markdown",
   "id": "79ae364d-99b0-4e8b-8443-25e99a71956e",
   "metadata": {},
   "source": [
    "This function has created a new folder, \"csvs\", which contain one csv file for each element contained within the `scdr` object. *The X matrix is not written, though, unless you explicitly set the `skip_data` argument to `False`*. This is because writing the gene expression matrix in a csv format would usually take very large amount of disk space. In our case `X` would take ~180 MB in csv format, but larger experiments would easily scale up to several GB."
   ]
  },
  {
   "cell_type": "code",
   "execution_count": null,
   "id": "50f30fec-58e3-4731-bd39-fe0a661b2986",
   "metadata": {},
   "outputs": [],
   "source": []
  }
 ],
 "metadata": {
  "kernelspec": {
   "display_name": "Python 3",
   "language": "python",
   "name": "python3"
  },
  "language_info": {
   "codemirror_mode": {
    "name": "ipython",
    "version": 3
   },
   "file_extension": ".py",
   "mimetype": "text/x-python",
   "name": "python",
   "nbconvert_exporter": "python",
   "pygments_lexer": "ipython3",
   "version": "3.11.4"
  }
 },
 "nbformat": 4,
 "nbformat_minor": 5
}
