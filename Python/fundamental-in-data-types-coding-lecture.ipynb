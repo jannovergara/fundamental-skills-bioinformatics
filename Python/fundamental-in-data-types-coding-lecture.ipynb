{
 "cells": [
  {
   "cell_type": "markdown",
   "id": "237799a1-7dc1-4b5f-9930-c2dc86404d4b",
   "metadata": {
    "tags": []
   },
   "source": [
    "## Fundamental data types\n",
    "\n",
    "### Coding lecture"
   ]
  },
  {
   "cell_type": "markdown",
   "id": "c395b493-ee75-4e3f-b4ed-5ba548dc67b5",
   "metadata": {
    "tags": []
   },
   "source": [
    "#### Declarying a new variable\n",
    "\n",
    "Python has the following primitive (a.k.a. fundamental) data types:\n",
    "\n",
    "|Type       |Example            |\n",
    "|:----:     |:----:             |\n",
    "|`int`      |5                  |\n",
    "|`float`    |1.4                |\n",
    "|`complex`  |2 + 3j             |\n",
    "|`bool`     |True or False      |\n",
    "|`str`      |'this is a string!'|\n",
    "\n",
    "Creating a variable only requires declaring it and assigning a value:\n"
   ]
  },
  {
   "cell_type": "code",
   "execution_count": 25,
   "id": "518b6ed5-468a-4a0b-beef-9cbd9de20dfd",
   "metadata": {},
   "outputs": [],
   "source": [
    "# First python command! And yes, this is a comment, exactly as in R\n",
    "x = 5"
   ]
  },
  {
   "cell_type": "markdown",
   "id": "cc05e14c-1ff9-487c-b733-eba129226bca",
   "metadata": {},
   "source": [
    "The variable `x` is now an `int` and contains the value `5`. We can check the type of any variable with the function `type()`"
   ]
  },
  {
   "cell_type": "code",
   "execution_count": 26,
   "id": "57e2fe16-c90b-42ce-a0a6-9e8b43511d08",
   "metadata": {},
   "outputs": [
    {
     "data": {
      "text/plain": [
       "int"
      ]
     },
     "execution_count": 26,
     "metadata": {},
     "output_type": "execute_result"
    }
   ],
   "source": [
    "type(x)"
   ]
  },
  {
   "cell_type": "markdown",
   "id": "c5fc56ac-cadd-4332-9932-181237f5ca92",
   "metadata": {},
   "source": [
    "The function `print()` is often quite useful for inspecting the content of a variable"
   ]
  },
  {
   "cell_type": "code",
   "execution_count": 27,
   "id": "7ce29d32-f07e-4e6a-af06-d5dac85adfbb",
   "metadata": {},
   "outputs": [
    {
     "name": "stdout",
     "output_type": "stream",
     "text": [
      "5\n"
     ]
    }
   ],
   "source": [
    "print(x)"
   ]
  },
  {
   "cell_type": "markdown",
   "id": "9c0f9d90-9770-4e56-8095-f853d9fc36b3",
   "metadata": {},
   "source": [
    "Alternatively, in a Jupyter lab you can just write the name of the variable and execute the code block"
   ]
  },
  {
   "cell_type": "code",
   "execution_count": 28,
   "id": "c176f0c9-bbc3-48d7-a7d5-a63752fcfea3",
   "metadata": {},
   "outputs": [
    {
     "data": {
      "text/plain": [
       "5"
      ]
     },
     "execution_count": 28,
     "metadata": {},
     "output_type": "execute_result"
    }
   ],
   "source": [
    "x"
   ]
  },
  {
   "cell_type": "markdown",
   "id": "50e4f718-3eb5-4db8-9a52-59f3b4fe72ba",
   "metadata": {},
   "source": [
    "Once the variable `x` is created, it can point to any type of value. This is why python is considered a *dynamically typed* language"
   ]
  },
  {
   "cell_type": "code",
   "execution_count": 29,
   "id": "52a77a99-4073-49e8-8709-79aefd8113e2",
   "metadata": {},
   "outputs": [],
   "source": [
    "# changing the value x is pointing to\n",
    "x = 3 + 2j"
   ]
  },
  {
   "cell_type": "markdown",
   "id": "e9b82a43-4aaf-4b33-b279-321eebe03b42",
   "metadata": {},
   "source": [
    "We see that now `x` is a complex number, with value `3 + 2j`"
   ]
  },
  {
   "cell_type": "code",
   "execution_count": 30,
   "id": "771a33ed-6db5-4ca0-a130-85c00d7ee0b7",
   "metadata": {},
   "outputs": [
    {
     "data": {
      "text/plain": [
       "complex"
      ]
     },
     "execution_count": 30,
     "metadata": {},
     "output_type": "execute_result"
    }
   ],
   "source": [
    "type(x)"
   ]
  },
  {
   "cell_type": "code",
   "execution_count": 31,
   "id": "121f1c31-3563-4084-8097-9faf17d8a48e",
   "metadata": {},
   "outputs": [
    {
     "name": "stdout",
     "output_type": "stream",
     "text": [
      "(3+2j)\n"
     ]
    }
   ],
   "source": [
    "print(x)"
   ]
  },
  {
   "cell_type": "markdown",
   "id": "19066bf0-d5a5-4a78-b1ad-cac8e544a9dc",
   "metadata": {},
   "source": [
    "Of course, multiple variables can be declared at once "
   ]
  },
  {
   "cell_type": "code",
   "execution_count": 32,
   "id": "b7026ba6-a134-48a9-94e7-cddb779559da",
   "metadata": {},
   "outputs": [],
   "source": [
    "x = 5\n",
    "y = 3.2\n",
    "z = 2 + 1j\n",
    "exampl_str = 'Hello World!'"
   ]
  },
  {
   "cell_type": "markdown",
   "id": "ae213684-474c-43fc-b0bb-d14318470f6b",
   "metadata": {},
   "source": [
    "A special type of primitive value is `None`, which indicates that a variable is not carrying any specific information"
   ]
  },
  {
   "cell_type": "code",
   "execution_count": 33,
   "id": "e1f54562-3ced-4439-9062-f50f4450f872",
   "metadata": {},
   "outputs": [
    {
     "name": "stdout",
     "output_type": "stream",
     "text": [
      "None\n"
     ]
    }
   ],
   "source": [
    "x = None\n",
    "print(x)"
   ]
  },
  {
   "cell_type": "markdown",
   "id": "a14e6882-fa1a-4571-ae88-1c31723be4f4",
   "metadata": {},
   "source": [
    "Finally, while R natively supports vectors, i.e., collection of values of the same type, this is not the case for Python. We will see later that"
   ]
  },
  {
   "cell_type": "markdown",
   "id": "de3c2d70-8ce0-4c4c-a7f8-14a9575aad27",
   "metadata": {},
   "source": [
    "#### Primitive data types as objects\n",
    "\n",
    "\n",
    "One key point that distinguishes python from R is that:\n",
    "\n",
    "***\n",
    "\n",
    "In python, everything is an object\n",
    "\n",
    "***\n",
    "\n",
    "This means that even primitive variables can have *attributes* and *methods*. For example, the variable `z` has the following attributes, identifying its real and complex part"
   ]
  },
  {
   "cell_type": "code",
   "execution_count": 34,
   "id": "9ebfcba8-35c8-49a0-bdfb-45683133a53a",
   "metadata": {},
   "outputs": [],
   "source": [
    "z = 2 + 1j"
   ]
  },
  {
   "cell_type": "code",
   "execution_count": 35,
   "id": "222de71e-0c05-4541-8c3b-b9d0a30ef208",
   "metadata": {},
   "outputs": [
    {
     "data": {
      "text/plain": [
       "2.0"
      ]
     },
     "execution_count": 35,
     "metadata": {},
     "output_type": "execute_result"
    }
   ],
   "source": [
    "z.real"
   ]
  },
  {
   "cell_type": "code",
   "execution_count": null,
   "id": "d603407f-a7a2-479e-acea-60e6099092a9",
   "metadata": {
    "jupyter": {
     "source_hidden": true
    },
    "tags": []
   },
   "outputs": [],
   "source": []
  },
  {
   "cell_type": "code",
   "execution_count": 36,
   "id": "06eb37cb-07f0-4931-ba4e-475f7972231f",
   "metadata": {},
   "outputs": [
    {
     "data": {
      "text/plain": [
       "1.0"
      ]
     },
     "execution_count": 36,
     "metadata": {},
     "output_type": "execute_result"
    }
   ],
   "source": [
    "z.imag"
   ]
  },
  {
   "cell_type": "markdown",
   "id": "b8555ee2-0e08-403f-b334-7e9222afd81a",
   "metadata": {},
   "source": [
    "Another example: the `float` variable `y` has a method to determine whether it can be considered an integer or not:"
   ]
  },
  {
   "cell_type": "code",
   "execution_count": 37,
   "id": "5013c3dc-425c-447a-ba01-c2d0f4432da2",
   "metadata": {},
   "outputs": [
    {
     "data": {
      "text/plain": [
       "False"
      ]
     },
     "execution_count": 37,
     "metadata": {},
     "output_type": "execute_result"
    }
   ],
   "source": [
    "y = 3.2\n",
    "y.is_integer()"
   ]
  },
  {
   "cell_type": "code",
   "execution_count": 38,
   "id": "4fea7e8b-3bee-4f84-a634-ed2d1202548e",
   "metadata": {},
   "outputs": [
    {
     "data": {
      "text/plain": [
       "True"
      ]
     },
     "execution_count": 38,
     "metadata": {},
     "output_type": "execute_result"
    }
   ],
   "source": [
    "y = 3.0\n",
    "y.is_integer()"
   ]
  },
  {
   "cell_type": "markdown",
   "id": "914bc468-894b-490b-8b09-c9352b1771c7",
   "metadata": {},
   "source": [
    "The key distinction between methods and attributes is that methods are functions that algorithmically produce an output, starting from the status of the object and possibly an external input. Attributes are characteristics of the object, whose values can be retrieved and possibly set."
   ]
  },
  {
   "cell_type": "markdown",
   "id": "f4bed3cf-4841-473e-b650-48dbc9c628c5",
   "metadata": {},
   "source": [
    "#### Operators\n",
    "\n",
    "The most direct way to manipulate fundamental data types is through *operators*. Different types of operators exist, including *arithmetic*, *logical*, *comparison*, and *assignment*."
   ]
  },
  {
   "cell_type": "markdown",
   "id": "1b778deb-d22c-41d1-9b08-0122c6f00a2e",
   "metadata": {},
   "source": [
    "Arithmetic operator largely works as in R:"
   ]
  },
  {
   "cell_type": "code",
   "execution_count": 39,
   "id": "f4518746-503a-48a3-b65e-d7a84157a130",
   "metadata": {},
   "outputs": [
    {
     "data": {
      "text/plain": [
       "27.0"
      ]
     },
     "execution_count": 39,
     "metadata": {},
     "output_type": "execute_result"
    }
   ],
   "source": [
    "x = 2.5\n",
    "y = 3\n",
    "(x + 2) / (y - x) * 3"
   ]
  },
  {
   "cell_type": "markdown",
   "id": "59ac445a-08ca-47c0-8d53-697510873ea4",
   "metadata": {},
   "source": [
    "The *floor division*, *modulus*, and *exponentiation* arithmetic operators have slightly different syntax with respect to their R counterpart:"
   ]
  },
  {
   "cell_type": "code",
   "execution_count": 40,
   "id": "7fa5df89-f72d-4bf6-8fae-c8e7612a9c11",
   "metadata": {},
   "outputs": [
    {
     "name": "stdout",
     "output_type": "stream",
     "text": [
      "2\n",
      "1\n",
      "25\n"
     ]
    }
   ],
   "source": [
    "print(5 // 2) # floor division\n",
    "print(5 % 2) # modulus\n",
    "print(5 ** 2) # exponentiation"
   ]
  },
  {
   "cell_type": "markdown",
   "id": "c1b8a0eb-0867-4f9b-a932-56b71ceeb6c9",
   "metadata": {},
   "source": [
    "Logical operators combine together Boolean values, following the rules explained in Week 2: "
   ]
  },
  {
   "cell_type": "code",
   "execution_count": 41,
   "id": "cb5f5822-be67-4d48-8d69-ffab1b82d6f5",
   "metadata": {},
   "outputs": [
    {
     "name": "stdout",
     "output_type": "stream",
     "text": [
      "False\n",
      "True\n",
      "False\n"
     ]
    }
   ],
   "source": [
    "print(True and False) # logical \"and\", true only if both values are true\n",
    "print(True or False) # logical \"or\", true if at least one values is true\n",
    "print(not True) # logical negation, it inverts the Boolean value"
   ]
  },
  {
   "cell_type": "markdown",
   "id": "8ce1caca-8467-47ec-b3fe-d212a7594b6d",
   "metadata": {},
   "source": [
    "Comparison operators evaluate relationships between objects:"
   ]
  },
  {
   "cell_type": "code",
   "execution_count": 42,
   "id": "0ebad774-c62f-418c-891c-0533c4c2127c",
   "metadata": {},
   "outputs": [
    {
     "name": "stdout",
     "output_type": "stream",
     "text": [
      "False\n",
      "True\n",
      "True\n",
      "True\n"
     ]
    }
   ],
   "source": [
    "print(2 > 3) # \"greater\" operator. \"greater or equal\" (>=) can also be used\n",
    "print(2 <= 4) # \"less or equal\" operator. \"less\" (<) can also be used\n",
    "print(3 == 3) # \"equal to\" operator. \n",
    "print(4 != 3) # \"not equal to\" operator. "
   ]
  },
  {
   "cell_type": "markdown",
   "id": "df923c5d-38a6-4d14-8e6e-17c78c16f595",
   "metadata": {},
   "source": [
    "Finally, assignment operators provide syntatic shortcuts for some common operation:"
   ]
  },
  {
   "cell_type": "code",
   "execution_count": 43,
   "id": "6f18e01c-12ba-436d-a94a-e9379d0fb810",
   "metadata": {},
   "outputs": [
    {
     "name": "stdout",
     "output_type": "stream",
     "text": [
      "6\n",
      "12\n"
     ]
    }
   ],
   "source": [
    "x = 5\n",
    "x += 1 # equivalent to x = x + 1\n",
    "print(x)\n",
    "x *= 2 # equivalent to x = x * 2\n",
    "print(x)\n",
    "# and so on for \"/=\", \"**=\", etc."
   ]
  },
  {
   "cell_type": "markdown",
   "id": "dd57a68f-5d5c-497e-a19e-3e6d20d7d646",
   "metadata": {},
   "source": [
    "We will see a single operator for strings, the `+` symbol, which concatenates two `str` objects."
   ]
  },
  {
   "cell_type": "code",
   "execution_count": 44,
   "id": "d1d3f73c-dd87-42b8-937c-47e30f5ec4d5",
   "metadata": {},
   "outputs": [
    {
     "name": "stdout",
     "output_type": "stream",
     "text": [
      "Hello World!\n"
     ]
    }
   ],
   "source": [
    "print('Hello' + ' ' + 'World!')"
   ]
  },
  {
   "cell_type": "markdown",
   "id": "0ecb67db-05ac-4065-83f8-807a1325373d",
   "metadata": {},
   "source": [
    "Non `str` object should be coerced to `str` before being concatenated"
   ]
  },
  {
   "cell_type": "code",
   "execution_count": 45,
   "id": "6e9c7589-3778-483d-8c80-0848b5b44295",
   "metadata": {},
   "outputs": [
    {
     "name": "stdout",
     "output_type": "stream",
     "text": [
      "There is only 1 line of code in this notebook cell!\n"
     ]
    }
   ],
   "source": [
    "print('There is only ' + str(1) + ' line of code in this notebook cell!')"
   ]
  },
  {
   "cell_type": "markdown",
   "id": "c9199e78-bdcd-498c-93c5-5133e22adf5e",
   "metadata": {},
   "source": [
    "Note: Python has some additional operators not present in R, particularly *identity*, *membership* and *bitewise* operators. While the latter type is outside the scope of this course, we will see how to use identity and membership operators later in the course."
   ]
  }
 ],
 "metadata": {
  "kernelspec": {
   "display_name": "Python 3",
   "language": "python",
   "name": "python3"
  },
  "language_info": {
   "codemirror_mode": {
    "name": "ipython",
    "version": 3
   },
   "file_extension": ".py",
   "mimetype": "text/x-python",
   "name": "python",
   "nbconvert_exporter": "python",
   "pygments_lexer": "ipython3",
   "version": "3.8.8"
  }
 },
 "nbformat": 4,
 "nbformat_minor": 5
}