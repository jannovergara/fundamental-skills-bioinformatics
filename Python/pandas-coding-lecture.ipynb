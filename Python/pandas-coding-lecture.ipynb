{
 "cells": [
  {
   "cell_type": "markdown",
   "id": "237799a1-7dc1-4b5f-9930-c2dc86404d4b",
   "metadata": {},
   "source": [
    "## The pandas package\n",
    "\n",
    "### Coding lecture\n",
    "\n",
    "reading data from file, subsetting data frame (inlcuding selecting only specific type of columns, setting a specific element to a value), adding a categorical column derived by exercise, data frame's methods: box plot, summarize, groupby,  impute all missing values, apply, tabular data"
   ]
  },
  {
   "cell_type": "markdown",
   "id": "c395b493-ee75-4e3f-b4ed-5ba548dc67b5",
   "metadata": {
    "tags": []
   },
   "source": [
    "#### Why to use pandas?\n",
    "\n",
    "The pandas package provides data frames, and data frames allow a rich representation of tabular data. Columns in a data frame can be of different type, while rows and columns indices permit to subset and split the data in a variety of way. Although quite reductive, you can think of a data frame as a transposition of a spreadsheet within Python. Even more importantly, pandas offers a large number of functionalities for exploring and manipulating data contained in data frames. We will explore some of these functionalities below; for a more complete overview and for reference, please check the [official documentation](https://pandas.pydata.org/docs/)."
   ]
  },
  {
   "cell_type": "markdown",
   "id": "cc05e14c-1ff9-487c-b733-eba129226bca",
   "metadata": {},
   "source": [
    "#### Using pandas\n",
    "\n",
    "In this module, for learning pandas, we bring you to... space! We will analyze data from a fictitious experiments, where sugar consumption level during exercise is measured on several subjects *while being on different planets* 😊. \n",
    "\n",
    "Let's see if changes in the gravitational pull can really affect how fast you burn blood glucose! For this example, we are going to have 5 subjects. Subjects had their level of LDL cholesterol as well as sugar consuption measured, and the objective is understand how these two quantities change depending on your level of exercise and the planet you are currently on."
   ]
  },
  {
   "cell_type": "code",
   "execution_count": 36,
   "id": "57e2fe16-c90b-42ce-a0a6-9e8b43511d08",
   "metadata": {},
   "outputs": [
    {
     "data": {
      "text/html": [
       "<div>\n",
       "<style scoped>\n",
       "    .dataframe tbody tr th:only-of-type {\n",
       "        vertical-align: middle;\n",
       "    }\n",
       "\n",
       "    .dataframe tbody tr th {\n",
       "        vertical-align: top;\n",
       "    }\n",
       "\n",
       "    .dataframe thead th {\n",
       "        text-align: right;\n",
       "    }\n",
       "</style>\n",
       "<table border=\"1\" class=\"dataframe\">\n",
       "  <thead>\n",
       "    <tr style=\"text-align: right;\">\n",
       "      <th></th>\n",
       "      <th>LDL_levels</th>\n",
       "      <th>Planet</th>\n",
       "      <th>Exercise</th>\n",
       "      <th>Sugar_consumption</th>\n",
       "    </tr>\n",
       "  </thead>\n",
       "  <tbody>\n",
       "    <tr>\n",
       "      <th>Patient_1</th>\n",
       "      <td>117.084348</td>\n",
       "      <td>Earth</td>\n",
       "      <td>35.225465</td>\n",
       "      <td>33.074228</td>\n",
       "    </tr>\n",
       "    <tr>\n",
       "      <th>Patient_2</th>\n",
       "      <td>106.295820</td>\n",
       "      <td>Earth</td>\n",
       "      <td>86.118299</td>\n",
       "      <td>35.766400</td>\n",
       "    </tr>\n",
       "    <tr>\n",
       "      <th>Patient_3</th>\n",
       "      <td>122.064582</td>\n",
       "      <td>Earth</td>\n",
       "      <td>75.440539</td>\n",
       "      <td>30.140532</td>\n",
       "    </tr>\n",
       "    <tr>\n",
       "      <th>Patient_782</th>\n",
       "      <td>90.321457</td>\n",
       "      <td>Venus</td>\n",
       "      <td>76.986851</td>\n",
       "      <td>30.929747</td>\n",
       "    </tr>\n",
       "    <tr>\n",
       "      <th>Patient_783</th>\n",
       "      <td>112.436915</td>\n",
       "      <td>Venus</td>\n",
       "      <td>60.213316</td>\n",
       "      <td>34.515345</td>\n",
       "    </tr>\n",
       "  </tbody>\n",
       "</table>\n",
       "</div>"
      ],
      "text/plain": [
       "             LDL_levels Planet   Exercise  Sugar_consumption\n",
       "Patient_1    117.084348  Earth  35.225465          33.074228\n",
       "Patient_2    106.295820  Earth  86.118299          35.766400\n",
       "Patient_3    122.064582  Earth  75.440539          30.140532\n",
       "Patient_782   90.321457  Venus  76.986851          30.929747\n",
       "Patient_783  112.436915  Venus  60.213316          34.515345"
      ]
     },
     "execution_count": 36,
     "metadata": {},
     "output_type": "execute_result"
    }
   ],
   "source": [
    "# importing pandas\n",
    "import pandas as pd\n",
    "\n",
    "# creating our first data frame\n",
    "df = pd.DataFrame(\n",
    "    data = {\n",
    "    'LDL_levels':[117.0843482, 106.2958199, 122.0645822, 90.3214571, 112.4369152],\n",
    "    'Planet':['Earth','Earth','Earth', 'Venus', 'Venus'],\n",
    "    'Exercise':[35.22546468, 86.11829872, 75.44053885, 76.98685069, 60.21331603],\n",
    "    'Sugar_consumption':[33.07422821, 35.76640029, 30.14053194, 30.92974665, 34.51534541]\n",
    "    }, \n",
    "    index = ['Patient_1', 'Patient_2', 'Patient_3', 'Patient_782', 'Patient_783']\n",
    ")\n",
    "\n",
    "# visualizing the data frame\n",
    "df"
   ]
  },
  {
   "cell_type": "markdown",
   "id": "df923c5d-38a6-4d14-8e6e-17c78c16f595",
   "metadata": {},
   "source": [
    "There is quite a lot to unpack here, so let's go in order. \n",
    "\n",
    "We provided two arguments to the `pd.DataFrame` function, one is `data` and the other `index`. \n",
    "\n",
    "The `data` argument receives a dictionary; recall that each item of a dictionary is composed of a *key* and a *value*. The keys become the names of the column; the values are lists of elements that become the columns of the data frame. It is important that the each of these lists have the same number of elements (five in this case). \n",
    "\n",
    "The `index` argument provides the names for the rows of the data frame.\n",
    "\n",
    "Finally, we visualize the data frame by simply typing its name, `df`, and we obtain a nicely formatted output. Using `print(df)` actually provides a plainer visualization. \n",
    "\n",
    "In the output we can observe how the data frame is organized: we have a name for each row, and these names do *not* form an additional column, their are a index and are separated from the columns. Each column has a name, and importantly, *each column can be of a different type*. In our example, the Planet column is a list of string, while the other columns are numerical."
   ]
  },
  {
   "cell_type": "markdown",
   "id": "a8ed4a4a-d1c4-44ec-a2c4-b8c6ede6f84d",
   "metadata": {},
   "source": [
    "Great! We have created our first data frame and we have explored its structure. Small problem: we have *1500* samples in total! Hard-coding 1500 values for each of our 4 measurements is a bit overwhelming, not to mention that the code will look quite jammed.\n",
    "\n",
    "Luckily, pandas offers several functions for reading data *directly from file*. We will use the `read_csv` function for importing the data from the *DATA_FSB_SET_3_mod.csv* file. For the ones that have never worked with comma-separated value (csv) files before, these files are textual files where commas are used for separating values across different columns, as in the example below:"
   ]
  },
  {
   "cell_type": "markdown",
   "id": "1864fb41-5111-4bef-9217-64c3a593bfaf",
   "metadata": {},
   "source": [
    "```\n",
    "Individual,LDL_levels,Planet,Exercise,Sugar_consumption\n",
    "Patient_1,117.0843482,Earth,35.22546468,33.07422821\n",
    "Patient_2,106.2958199,Earth,86.11829872,35.76640029\n",
    "Patient_3,122.0645822,Earth,75.44053885,30.14053194\n",
    "Patient_782,90.3214571,Venus,76.98685069,30.92974665\n",
    "Patient_783,112.4369152,Venus,60.21331603,34.51534541\n",
    "```"
   ]
  },
  {
   "cell_type": "code",
   "execution_count": 37,
   "id": "51cdb87d-53a8-49d3-ae42-fd48552544f8",
   "metadata": {},
   "outputs": [
    {
     "data": {
      "text/html": [
       "<div>\n",
       "<style scoped>\n",
       "    .dataframe tbody tr th:only-of-type {\n",
       "        vertical-align: middle;\n",
       "    }\n",
       "\n",
       "    .dataframe tbody tr th {\n",
       "        vertical-align: top;\n",
       "    }\n",
       "\n",
       "    .dataframe thead th {\n",
       "        text-align: right;\n",
       "    }\n",
       "</style>\n",
       "<table border=\"1\" class=\"dataframe\">\n",
       "  <thead>\n",
       "    <tr style=\"text-align: right;\">\n",
       "      <th></th>\n",
       "      <th>LDL_levels</th>\n",
       "      <th>Planet</th>\n",
       "      <th>Planet2</th>\n",
       "      <th>Exercise</th>\n",
       "      <th>Sugar_Consumption</th>\n",
       "    </tr>\n",
       "    <tr>\n",
       "      <th>Individual</th>\n",
       "      <th></th>\n",
       "      <th></th>\n",
       "      <th></th>\n",
       "      <th></th>\n",
       "      <th></th>\n",
       "    </tr>\n",
       "  </thead>\n",
       "  <tbody>\n",
       "    <tr>\n",
       "      <th>Patient_1</th>\n",
       "      <td>117.084348</td>\n",
       "      <td>Earth</td>\n",
       "      <td>Earth</td>\n",
       "      <td>35.225465</td>\n",
       "      <td>33.074228</td>\n",
       "    </tr>\n",
       "    <tr>\n",
       "      <th>Patient_2</th>\n",
       "      <td>106.295820</td>\n",
       "      <td>Earth</td>\n",
       "      <td>Earth</td>\n",
       "      <td>86.118299</td>\n",
       "      <td>35.766400</td>\n",
       "    </tr>\n",
       "    <tr>\n",
       "      <th>Patient_3</th>\n",
       "      <td>122.064582</td>\n",
       "      <td>Earth</td>\n",
       "      <td>Earth</td>\n",
       "      <td>75.440539</td>\n",
       "      <td>30.140532</td>\n",
       "    </tr>\n",
       "    <tr>\n",
       "      <th>Patient_4</th>\n",
       "      <td>126.171853</td>\n",
       "      <td>Earth</td>\n",
       "      <td>Earth</td>\n",
       "      <td>39.336172</td>\n",
       "      <td>30.966869</td>\n",
       "    </tr>\n",
       "    <tr>\n",
       "      <th>Patient_5</th>\n",
       "      <td>132.882935</td>\n",
       "      <td>Earth</td>\n",
       "      <td>Earth</td>\n",
       "      <td>23.614529</td>\n",
       "      <td>39.043881</td>\n",
       "    </tr>\n",
       "    <tr>\n",
       "      <th>...</th>\n",
       "      <td>...</td>\n",
       "      <td>...</td>\n",
       "      <td>...</td>\n",
       "      <td>...</td>\n",
       "      <td>...</td>\n",
       "    </tr>\n",
       "    <tr>\n",
       "      <th>Patient_1496</th>\n",
       "      <td>90.586941</td>\n",
       "      <td>Venus</td>\n",
       "      <td>Venus_moon</td>\n",
       "      <td>70.696798</td>\n",
       "      <td>25.965687</td>\n",
       "    </tr>\n",
       "    <tr>\n",
       "      <th>Patient_1497</th>\n",
       "      <td>67.401280</td>\n",
       "      <td>Venus</td>\n",
       "      <td>Venus_moon</td>\n",
       "      <td>97.889474</td>\n",
       "      <td>37.641569</td>\n",
       "    </tr>\n",
       "    <tr>\n",
       "      <th>Patient_1498</th>\n",
       "      <td>120.891409</td>\n",
       "      <td>Venus</td>\n",
       "      <td>Venus_moon</td>\n",
       "      <td>20.061231</td>\n",
       "      <td>43.162917</td>\n",
       "    </tr>\n",
       "    <tr>\n",
       "      <th>Patient_1499</th>\n",
       "      <td>77.996389</td>\n",
       "      <td>Venus</td>\n",
       "      <td>Venus_moon</td>\n",
       "      <td>75.662184</td>\n",
       "      <td>31.704016</td>\n",
       "    </tr>\n",
       "    <tr>\n",
       "      <th>Patient_1500</th>\n",
       "      <td>94.978406</td>\n",
       "      <td>Venus</td>\n",
       "      <td>Venus_moon</td>\n",
       "      <td>35.330030</td>\n",
       "      <td>35.495333</td>\n",
       "    </tr>\n",
       "  </tbody>\n",
       "</table>\n",
       "<p>1500 rows × 5 columns</p>\n",
       "</div>"
      ],
      "text/plain": [
       "              LDL_levels Planet     Planet2   Exercise  Sugar_Consumption\n",
       "Individual                                                               \n",
       "Patient_1     117.084348  Earth       Earth  35.225465          33.074228\n",
       "Patient_2     106.295820  Earth       Earth  86.118299          35.766400\n",
       "Patient_3     122.064582  Earth       Earth  75.440539          30.140532\n",
       "Patient_4     126.171853  Earth       Earth  39.336172          30.966869\n",
       "Patient_5     132.882935  Earth       Earth  23.614529          39.043881\n",
       "...                  ...    ...         ...        ...                ...\n",
       "Patient_1496   90.586941  Venus  Venus_moon  70.696798          25.965687\n",
       "Patient_1497   67.401280  Venus  Venus_moon  97.889474          37.641569\n",
       "Patient_1498  120.891409  Venus  Venus_moon  20.061231          43.162917\n",
       "Patient_1499   77.996389  Venus  Venus_moon  75.662184          31.704016\n",
       "Patient_1500   94.978406  Venus  Venus_moon  35.330030          35.495333\n",
       "\n",
       "[1500 rows x 5 columns]"
      ]
     },
     "execution_count": 37,
     "metadata": {},
     "output_type": "execute_result"
    }
   ],
   "source": [
    "# reading our data frame with read_csvimport numpy as np\n",
    "df = pd.read_csv('../R/r-data/DATA_FSB_SET_3.csv', index_col = 'Individual')\n",
    "\n",
    "# showing the data frame\n",
    "df"
   ]
  },
  {
   "cell_type": "markdown",
   "id": "79c07326-4c5b-4646-8378-7331f3970e42",
   "metadata": {},
   "source": [
    "The whole data frame is finally loaded. Since it is a large file, the visualization shows the first and last 5 rows, while the ellipses in the middle indicates that more rows where left out. Notice that we indicated the first column in the file to contain the index, i.e., the row names.\n",
    "\n",
    "Let's explore these data, starting from how we can select portion of them"
   ]
  },
  {
   "cell_type": "code",
   "execution_count": 16,
   "id": "43676594-a5a4-4619-836e-b39769a4f93c",
   "metadata": {},
   "outputs": [
    {
     "data": {
      "text/plain": [
       "Individual\n",
       "Patient_1       Earth\n",
       "Patient_2       Earth\n",
       "Patient_3       Earth\n",
       "Patient_4       Earth\n",
       "Patient_5       Earth\n",
       "                ...  \n",
       "Patient_1496    Venus\n",
       "Patient_1497    Venus\n",
       "Patient_1498    Venus\n",
       "Patient_1499    Venus\n",
       "Patient_1500    Venus\n",
       "Name: Planet, Length: 1500, dtype: object"
      ]
     },
     "execution_count": 16,
     "metadata": {},
     "output_type": "execute_result"
    }
   ],
   "source": [
    "# selecting a single column\n",
    "df.Planet"
   ]
  },
  {
   "cell_type": "code",
   "execution_count": 38,
   "id": "b5d5d7e9-b0d6-41a3-85aa-264a63cce9e8",
   "metadata": {},
   "outputs": [
    {
     "data": {
      "text/plain": [
       "Individual\n",
       "Patient_1       Earth\n",
       "Patient_2       Earth\n",
       "Patient_3       Earth\n",
       "Patient_4       Earth\n",
       "Patient_5       Earth\n",
       "                ...  \n",
       "Patient_1496    Venus\n",
       "Patient_1497    Venus\n",
       "Patient_1498    Venus\n",
       "Patient_1499    Venus\n",
       "Patient_1500    Venus\n",
       "Name: Planet, Length: 1500, dtype: object"
      ]
     },
     "execution_count": 38,
     "metadata": {},
     "output_type": "execute_result"
    }
   ],
   "source": [
    "# selecting a single column, second method\n",
    "df['Planet']"
   ]
  },
  {
   "cell_type": "markdown",
   "id": "2d3d21c0-a668-488c-892e-17ce8d561f50",
   "metadata": {},
   "source": [
    "Both commands above retrieve a single column from the data frame. This small example already showcases an important concept: *often there are several ways to obtain the same results when working with pandas*. Depending on the circumstances and your coding style, you will choose the solution that best suits you.\n",
    "\n",
    "What type of object is a data frame column? Let's find out!"
   ]
  },
  {
   "cell_type": "code",
   "execution_count": 39,
   "id": "e68ab9b0-2855-48d4-ae76-2a623409ec50",
   "metadata": {},
   "outputs": [
    {
     "data": {
      "text/plain": [
       "pandas.core.series.Series"
      ]
     },
     "execution_count": 39,
     "metadata": {},
     "output_type": "execute_result"
    }
   ],
   "source": [
    "# the type of a single column...\n",
    "type(df.LDL_levels)"
   ]
  },
  {
   "cell_type": "code",
   "execution_count": 40,
   "id": "72018ddf-d070-4ec0-88c0-b45c15e73164",
   "metadata": {},
   "outputs": [
    {
     "data": {
      "text/plain": [
       "numpy.ndarray"
      ]
     },
     "execution_count": 40,
     "metadata": {},
     "output_type": "execute_result"
    }
   ],
   "source": [
    "# the actual engine hiding under the hood...\n",
    "type(df.LDL_levels.values)"
   ]
  },
  {
   "cell_type": "markdown",
   "id": "54883df2-9e12-4806-8e51-f1f1c473cba5",
   "metadata": {},
   "source": [
    "Each column of a data frame is a `Series` object. These objects are very interesting per se, with a number of useful methods, however we will not have the time to explore them in details during this course. Interested readers can find out more in pandas [official documentation](https://pandas.pydata.org/docs/).\n",
    "\n",
    "What it is of interest here for us is that the package NumPy is the real powerhorse behind pandas. Series objects are based on NumPy arrays, and this explain their speed and versatility."
   ]
  },
  {
   "cell_type": "markdown",
   "id": "0c2df076-09c5-4edc-93a8-807f217f1d9b",
   "metadata": {},
   "source": [
    "How can we subset a portion of the data frame, for example from the 5th to the 10th rows and from the 2nd to 4th column? We can use the `iloc` mechanisms."
   ]
  },
  {
   "cell_type": "code",
   "execution_count": 22,
   "id": "abcf879f-8873-423d-8291-c21c300f08ba",
   "metadata": {},
   "outputs": [
    {
     "data": {
      "text/html": [
       "<div>\n",
       "<style scoped>\n",
       "    .dataframe tbody tr th:only-of-type {\n",
       "        vertical-align: middle;\n",
       "    }\n",
       "\n",
       "    .dataframe tbody tr th {\n",
       "        vertical-align: top;\n",
       "    }\n",
       "\n",
       "    .dataframe thead th {\n",
       "        text-align: right;\n",
       "    }\n",
       "</style>\n",
       "<table border=\"1\" class=\"dataframe\">\n",
       "  <thead>\n",
       "    <tr style=\"text-align: right;\">\n",
       "      <th></th>\n",
       "      <th>Planet2</th>\n",
       "      <th>Exercise</th>\n",
       "      <th>Sugar_Consumption</th>\n",
       "    </tr>\n",
       "    <tr>\n",
       "      <th>Individual</th>\n",
       "      <th></th>\n",
       "      <th></th>\n",
       "      <th></th>\n",
       "    </tr>\n",
       "  </thead>\n",
       "  <tbody>\n",
       "    <tr>\n",
       "      <th>Patient_5</th>\n",
       "      <td>Earth</td>\n",
       "      <td>23.614529</td>\n",
       "      <td>39.043881</td>\n",
       "    </tr>\n",
       "    <tr>\n",
       "      <th>Patient_6</th>\n",
       "      <td>Earth</td>\n",
       "      <td>1.198628</td>\n",
       "      <td>286.614008</td>\n",
       "    </tr>\n",
       "    <tr>\n",
       "      <th>Patient_7</th>\n",
       "      <td>Earth</td>\n",
       "      <td>15.899816</td>\n",
       "      <td>43.889773</td>\n",
       "    </tr>\n",
       "    <tr>\n",
       "      <th>Patient_8</th>\n",
       "      <td>Earth</td>\n",
       "      <td>28.657403</td>\n",
       "      <td>44.986136</td>\n",
       "    </tr>\n",
       "    <tr>\n",
       "      <th>Patient_9</th>\n",
       "      <td>Earth</td>\n",
       "      <td>42.636719</td>\n",
       "      <td>37.364243</td>\n",
       "    </tr>\n",
       "    <tr>\n",
       "      <th>Patient_10</th>\n",
       "      <td>Earth</td>\n",
       "      <td>104.057855</td>\n",
       "      <td>40.324452</td>\n",
       "    </tr>\n",
       "  </tbody>\n",
       "</table>\n",
       "</div>"
      ],
      "text/plain": [
       "           Planet2    Exercise  Sugar_Consumption\n",
       "Individual                                       \n",
       "Patient_5    Earth   23.614529          39.043881\n",
       "Patient_6    Earth    1.198628         286.614008\n",
       "Patient_7    Earth   15.899816          43.889773\n",
       "Patient_8    Earth   28.657403          44.986136\n",
       "Patient_9    Earth   42.636719          37.364243\n",
       "Patient_10   Earth  104.057855          40.324452"
      ]
     },
     "execution_count": 22,
     "metadata": {},
     "output_type": "execute_result"
    }
   ],
   "source": [
    "# subsetting the data frame with iloc\n",
    "df.iloc[4:10, 2:5]"
   ]
  },
  {
   "cell_type": "markdown",
   "id": "7487071e-8905-4ee5-b9dc-40b57247e15a",
   "metadata": {},
   "source": [
    "Subsetting in Python seems similar to its equivalent in R, but with some noticeable differences:\n",
    "- You must use the `iloc` instruction. Typing `df[4:10, 1:4]`, as you would do in R, leads to an exception.\n",
    "- Indices in Python starts from zero. Thus, the 5th row has 4 as a index, the 6th has 5, and so on. Same logic for the columns.\n",
    "- The slice `4:10` is translated to [4, 5, 6, 7, 8, 9], i.e., the last number is omitted."
   ]
  },
  {
   "cell_type": "markdown",
   "id": "2970bcda-8f5c-42fe-808d-75462a55ad54",
   "metadata": {},
   "source": [
    "The `iloc` mechanism only works when you subset on the basis rows and columns indices. If you want to subset using rows and columns names, then the `loc` mechanism is the way to go."
   ]
  },
  {
   "cell_type": "code",
   "execution_count": 24,
   "id": "1e95d638-b530-4ed9-bc5d-ef46b84b37df",
   "metadata": {},
   "outputs": [
    {
     "data": {
      "text/html": [
       "<div>\n",
       "<style scoped>\n",
       "    .dataframe tbody tr th:only-of-type {\n",
       "        vertical-align: middle;\n",
       "    }\n",
       "\n",
       "    .dataframe tbody tr th {\n",
       "        vertical-align: top;\n",
       "    }\n",
       "\n",
       "    .dataframe thead th {\n",
       "        text-align: right;\n",
       "    }\n",
       "</style>\n",
       "<table border=\"1\" class=\"dataframe\">\n",
       "  <thead>\n",
       "    <tr style=\"text-align: right;\">\n",
       "      <th></th>\n",
       "      <th>Exercise</th>\n",
       "      <th>Sugar_Consumption</th>\n",
       "    </tr>\n",
       "    <tr>\n",
       "      <th>Individual</th>\n",
       "      <th></th>\n",
       "      <th></th>\n",
       "    </tr>\n",
       "  </thead>\n",
       "  <tbody>\n",
       "    <tr>\n",
       "      <th>Patient_1</th>\n",
       "      <td>35.225465</td>\n",
       "      <td>33.074228</td>\n",
       "    </tr>\n",
       "    <tr>\n",
       "      <th>Patient_2</th>\n",
       "      <td>86.118299</td>\n",
       "      <td>35.766400</td>\n",
       "    </tr>\n",
       "  </tbody>\n",
       "</table>\n",
       "</div>"
      ],
      "text/plain": [
       "             Exercise  Sugar_Consumption\n",
       "Individual                              \n",
       "Patient_1   35.225465          33.074228\n",
       "Patient_2   86.118299          35.766400"
      ]
     },
     "execution_count": 24,
     "metadata": {},
     "output_type": "execute_result"
    }
   ],
   "source": [
    "# subsetting using row and column names\n",
    "rs = ['Patient_1', 'Patient_2']\n",
    "cs = ['Exercise', 'Sugar_Consumption']\n",
    "df.loc[rs, cs]"
   ]
  },
  {
   "cell_type": "markdown",
   "id": "5604f77e-0b9c-4407-acb3-e3f18a606767",
   "metadata": {},
   "source": [
    "The `loc` mechanism also allows to use logical vectors for selecting portions of a data frame."
   ]
  },
  {
   "cell_type": "code",
   "execution_count": 25,
   "id": "7e28c294-ffe1-4c13-aa47-250cff529b18",
   "metadata": {},
   "outputs": [
    {
     "data": {
      "text/html": [
       "<div>\n",
       "<style scoped>\n",
       "    .dataframe tbody tr th:only-of-type {\n",
       "        vertical-align: middle;\n",
       "    }\n",
       "\n",
       "    .dataframe tbody tr th {\n",
       "        vertical-align: top;\n",
       "    }\n",
       "\n",
       "    .dataframe thead th {\n",
       "        text-align: right;\n",
       "    }\n",
       "</style>\n",
       "<table border=\"1\" class=\"dataframe\">\n",
       "  <thead>\n",
       "    <tr style=\"text-align: right;\">\n",
       "      <th></th>\n",
       "      <th>LDL_levels</th>\n",
       "      <th>Planet</th>\n",
       "      <th>Planet2</th>\n",
       "      <th>Exercise</th>\n",
       "      <th>Sugar_Consumption</th>\n",
       "    </tr>\n",
       "    <tr>\n",
       "      <th>Individual</th>\n",
       "      <th></th>\n",
       "      <th></th>\n",
       "      <th></th>\n",
       "      <th></th>\n",
       "      <th></th>\n",
       "    </tr>\n",
       "  </thead>\n",
       "  <tbody>\n",
       "    <tr>\n",
       "      <th>Patient_6</th>\n",
       "      <td>152.185939</td>\n",
       "      <td>Earth</td>\n",
       "      <td>Earth</td>\n",
       "      <td>1.198628</td>\n",
       "      <td>286.614008</td>\n",
       "    </tr>\n",
       "    <tr>\n",
       "      <th>Patient_95</th>\n",
       "      <td>155.726779</td>\n",
       "      <td>Earth</td>\n",
       "      <td>Earth</td>\n",
       "      <td>1.350736</td>\n",
       "      <td>259.380105</td>\n",
       "    </tr>\n",
       "    <tr>\n",
       "      <th>Patient_186</th>\n",
       "      <td>141.225017</td>\n",
       "      <td>Earth</td>\n",
       "      <td>Earth</td>\n",
       "      <td>1.077019</td>\n",
       "      <td>309.699533</td>\n",
       "    </tr>\n",
       "    <tr>\n",
       "      <th>Patient_448</th>\n",
       "      <td>159.392405</td>\n",
       "      <td>Earth</td>\n",
       "      <td>Earth</td>\n",
       "      <td>0.182044</td>\n",
       "      <td>1679.358706</td>\n",
       "    </tr>\n",
       "    <tr>\n",
       "      <th>Patient_538</th>\n",
       "      <td>165.577934</td>\n",
       "      <td>Earth</td>\n",
       "      <td>Earth</td>\n",
       "      <td>1.520243</td>\n",
       "      <td>234.193831</td>\n",
       "    </tr>\n",
       "    <tr>\n",
       "      <th>Patient_548</th>\n",
       "      <td>160.912259</td>\n",
       "      <td>Earth</td>\n",
       "      <td>Earth</td>\n",
       "      <td>1.212457</td>\n",
       "      <td>277.634511</td>\n",
       "    </tr>\n",
       "    <tr>\n",
       "      <th>Patient_809</th>\n",
       "      <td>149.057433</td>\n",
       "      <td>Venus</td>\n",
       "      <td>Venus</td>\n",
       "      <td>0.647880</td>\n",
       "      <td>483.979589</td>\n",
       "    </tr>\n",
       "    <tr>\n",
       "      <th>Patient_931</th>\n",
       "      <td>136.778379</td>\n",
       "      <td>Venus</td>\n",
       "      <td>Venus</td>\n",
       "      <td>0.121556</td>\n",
       "      <td>2494.292378</td>\n",
       "    </tr>\n",
       "    <tr>\n",
       "      <th>Patient_1319</th>\n",
       "      <td>132.482512</td>\n",
       "      <td>Venus</td>\n",
       "      <td>Venus_moon</td>\n",
       "      <td>0.914282</td>\n",
       "      <td>350.601316</td>\n",
       "    </tr>\n",
       "    <tr>\n",
       "      <th>Patient_1486</th>\n",
       "      <td>139.669070</td>\n",
       "      <td>Venus</td>\n",
       "      <td>Venus_moon</td>\n",
       "      <td>1.229823</td>\n",
       "      <td>269.748737</td>\n",
       "    </tr>\n",
       "  </tbody>\n",
       "</table>\n",
       "</div>"
      ],
      "text/plain": [
       "              LDL_levels Planet     Planet2  Exercise  Sugar_Consumption\n",
       "Individual                                                              \n",
       "Patient_6     152.185939  Earth       Earth  1.198628         286.614008\n",
       "Patient_95    155.726779  Earth       Earth  1.350736         259.380105\n",
       "Patient_186   141.225017  Earth       Earth  1.077019         309.699533\n",
       "Patient_448   159.392405  Earth       Earth  0.182044        1679.358706\n",
       "Patient_538   165.577934  Earth       Earth  1.520243         234.193831\n",
       "Patient_548   160.912259  Earth       Earth  1.212457         277.634511\n",
       "Patient_809   149.057433  Venus       Venus  0.647880         483.979589\n",
       "Patient_931   136.778379  Venus       Venus  0.121556        2494.292378\n",
       "Patient_1319  132.482512  Venus  Venus_moon  0.914282         350.601316\n",
       "Patient_1486  139.669070  Venus  Venus_moon  1.229823         269.748737"
      ]
     },
     "execution_count": 25,
     "metadata": {},
     "output_type": "execute_result"
    }
   ],
   "source": [
    "# let's select only the rows where sugar consumption is above 200\n",
    "idx = df['Sugar_Consumption'] > 200\n",
    "idx\n",
    "df.loc[idx, ]"
   ]
  },
  {
   "cell_type": "markdown",
   "id": "76b8cbe6-b394-4213-8f53-17292dd7e8e4",
   "metadata": {},
   "source": [
    "In the example above we used the `idx` logical vector (technically, a Series object) for selecting subjects with sugar consumption above 200. Notice also how we selected all the columns by simply omitting providing anything after the comma in `df.loc[idx, ]`."
   ]
  },
  {
   "cell_type": "markdown",
   "id": "a8bc0d28-8ca2-4b49-90ac-ef7c03b4294f",
   "metadata": {},
   "source": [
    "Somewhat confusingly, pandas allows to select rows with a logical index with the following syntax as well:"
   ]
  },
  {
   "cell_type": "code",
   "execution_count": 26,
   "id": "d67eee05-6638-472e-b987-b429bbaf41b5",
   "metadata": {},
   "outputs": [
    {
     "data": {
      "text/html": [
       "<div>\n",
       "<style scoped>\n",
       "    .dataframe tbody tr th:only-of-type {\n",
       "        vertical-align: middle;\n",
       "    }\n",
       "\n",
       "    .dataframe tbody tr th {\n",
       "        vertical-align: top;\n",
       "    }\n",
       "\n",
       "    .dataframe thead th {\n",
       "        text-align: right;\n",
       "    }\n",
       "</style>\n",
       "<table border=\"1\" class=\"dataframe\">\n",
       "  <thead>\n",
       "    <tr style=\"text-align: right;\">\n",
       "      <th></th>\n",
       "      <th>LDL_levels</th>\n",
       "      <th>Planet</th>\n",
       "      <th>Planet2</th>\n",
       "      <th>Exercise</th>\n",
       "      <th>Sugar_Consumption</th>\n",
       "    </tr>\n",
       "    <tr>\n",
       "      <th>Individual</th>\n",
       "      <th></th>\n",
       "      <th></th>\n",
       "      <th></th>\n",
       "      <th></th>\n",
       "      <th></th>\n",
       "    </tr>\n",
       "  </thead>\n",
       "  <tbody>\n",
       "    <tr>\n",
       "      <th>Patient_6</th>\n",
       "      <td>152.185939</td>\n",
       "      <td>Earth</td>\n",
       "      <td>Earth</td>\n",
       "      <td>1.198628</td>\n",
       "      <td>286.614008</td>\n",
       "    </tr>\n",
       "    <tr>\n",
       "      <th>Patient_95</th>\n",
       "      <td>155.726779</td>\n",
       "      <td>Earth</td>\n",
       "      <td>Earth</td>\n",
       "      <td>1.350736</td>\n",
       "      <td>259.380105</td>\n",
       "    </tr>\n",
       "    <tr>\n",
       "      <th>Patient_186</th>\n",
       "      <td>141.225017</td>\n",
       "      <td>Earth</td>\n",
       "      <td>Earth</td>\n",
       "      <td>1.077019</td>\n",
       "      <td>309.699533</td>\n",
       "    </tr>\n",
       "    <tr>\n",
       "      <th>Patient_448</th>\n",
       "      <td>159.392405</td>\n",
       "      <td>Earth</td>\n",
       "      <td>Earth</td>\n",
       "      <td>0.182044</td>\n",
       "      <td>1679.358706</td>\n",
       "    </tr>\n",
       "    <tr>\n",
       "      <th>Patient_538</th>\n",
       "      <td>165.577934</td>\n",
       "      <td>Earth</td>\n",
       "      <td>Earth</td>\n",
       "      <td>1.520243</td>\n",
       "      <td>234.193831</td>\n",
       "    </tr>\n",
       "    <tr>\n",
       "      <th>Patient_548</th>\n",
       "      <td>160.912259</td>\n",
       "      <td>Earth</td>\n",
       "      <td>Earth</td>\n",
       "      <td>1.212457</td>\n",
       "      <td>277.634511</td>\n",
       "    </tr>\n",
       "    <tr>\n",
       "      <th>Patient_809</th>\n",
       "      <td>149.057433</td>\n",
       "      <td>Venus</td>\n",
       "      <td>Venus</td>\n",
       "      <td>0.647880</td>\n",
       "      <td>483.979589</td>\n",
       "    </tr>\n",
       "    <tr>\n",
       "      <th>Patient_931</th>\n",
       "      <td>136.778379</td>\n",
       "      <td>Venus</td>\n",
       "      <td>Venus</td>\n",
       "      <td>0.121556</td>\n",
       "      <td>2494.292378</td>\n",
       "    </tr>\n",
       "    <tr>\n",
       "      <th>Patient_1319</th>\n",
       "      <td>132.482512</td>\n",
       "      <td>Venus</td>\n",
       "      <td>Venus_moon</td>\n",
       "      <td>0.914282</td>\n",
       "      <td>350.601316</td>\n",
       "    </tr>\n",
       "    <tr>\n",
       "      <th>Patient_1486</th>\n",
       "      <td>139.669070</td>\n",
       "      <td>Venus</td>\n",
       "      <td>Venus_moon</td>\n",
       "      <td>1.229823</td>\n",
       "      <td>269.748737</td>\n",
       "    </tr>\n",
       "  </tbody>\n",
       "</table>\n",
       "</div>"
      ],
      "text/plain": [
       "              LDL_levels Planet     Planet2  Exercise  Sugar_Consumption\n",
       "Individual                                                              \n",
       "Patient_6     152.185939  Earth       Earth  1.198628         286.614008\n",
       "Patient_95    155.726779  Earth       Earth  1.350736         259.380105\n",
       "Patient_186   141.225017  Earth       Earth  1.077019         309.699533\n",
       "Patient_448   159.392405  Earth       Earth  0.182044        1679.358706\n",
       "Patient_538   165.577934  Earth       Earth  1.520243         234.193831\n",
       "Patient_548   160.912259  Earth       Earth  1.212457         277.634511\n",
       "Patient_809   149.057433  Venus       Venus  0.647880         483.979589\n",
       "Patient_931   136.778379  Venus       Venus  0.121556        2494.292378\n",
       "Patient_1319  132.482512  Venus  Venus_moon  0.914282         350.601316\n",
       "Patient_1486  139.669070  Venus  Venus_moon  1.229823         269.748737"
      ]
     },
     "execution_count": 26,
     "metadata": {},
     "output_type": "execute_result"
    }
   ],
   "source": [
    "# alternative way to select rows based on logical values\n",
    "df[idx]"
   ]
  },
  {
   "cell_type": "markdown",
   "id": "c22b8bb7-e2e4-4580-aa7e-74bb8de4c3da",
   "metadata": {},
   "source": [
    "As we can see, the expression `df[idx]` will work in one of these two cases:\n",
    "- if idx is a list or Series with logical values with length equal to the number of rows\n",
    "\n",
    "or\n",
    "\n",
    "- if idx is a single string / list of strings corresponding to columns in the data frame"
   ]
  },
  {
   "cell_type": "markdown",
   "id": "5656d76c-43e0-4262-bb19-be18792238c9",
   "metadata": {},
   "source": [
    "***"
   ]
  },
  {
   "cell_type": "markdown",
   "id": "92d6e53b-1ca6-4210-8e83-fcdedec162cc",
   "metadata": {},
   "source": [
    "Until now we have learned how to access information within a data frame. Can we also modify it?"
   ]
  },
  {
   "cell_type": "code",
   "execution_count": 13,
   "id": "ef4a8386-9d19-4503-99b0-3de3c26d5919",
   "metadata": {},
   "outputs": [
    {
     "ename": "KeyError",
     "evalue": "'Sugar_consumption'",
     "output_type": "error",
     "traceback": [
      "\u001b[0;31m---------------------------------------------------------------------------\u001b[0m",
      "\u001b[0;31mKeyError\u001b[0m                                  Traceback (most recent call last)",
      "File \u001b[0;32m/Library/Frameworks/Python.framework/Versions/3.11/lib/python3.11/site-packages/pandas/core/indexes/base.py:3653\u001b[0m, in \u001b[0;36mIndex.get_loc\u001b[0;34m(self, key)\u001b[0m\n\u001b[1;32m   3652\u001b[0m \u001b[39mtry\u001b[39;00m:\n\u001b[0;32m-> 3653\u001b[0m     \u001b[39mreturn\u001b[39;00m \u001b[39mself\u001b[39;49m\u001b[39m.\u001b[39;49m_engine\u001b[39m.\u001b[39;49mget_loc(casted_key)\n\u001b[1;32m   3654\u001b[0m \u001b[39mexcept\u001b[39;00m \u001b[39mKeyError\u001b[39;00m \u001b[39mas\u001b[39;00m err:\n",
      "File \u001b[0;32m/Library/Frameworks/Python.framework/Versions/3.11/lib/python3.11/site-packages/pandas/_libs/index.pyx:147\u001b[0m, in \u001b[0;36mpandas._libs.index.IndexEngine.get_loc\u001b[0;34m()\u001b[0m\n",
      "File \u001b[0;32m/Library/Frameworks/Python.framework/Versions/3.11/lib/python3.11/site-packages/pandas/_libs/index.pyx:176\u001b[0m, in \u001b[0;36mpandas._libs.index.IndexEngine.get_loc\u001b[0;34m()\u001b[0m\n",
      "File \u001b[0;32mpandas/_libs/hashtable_class_helper.pxi:7080\u001b[0m, in \u001b[0;36mpandas._libs.hashtable.PyObjectHashTable.get_item\u001b[0;34m()\u001b[0m\n",
      "File \u001b[0;32mpandas/_libs/hashtable_class_helper.pxi:7088\u001b[0m, in \u001b[0;36mpandas._libs.hashtable.PyObjectHashTable.get_item\u001b[0;34m()\u001b[0m\n",
      "\u001b[0;31mKeyError\u001b[0m: 'Sugar_consumption'",
      "\nThe above exception was the direct cause of the following exception:\n",
      "\u001b[0;31mKeyError\u001b[0m                                  Traceback (most recent call last)",
      "\u001b[1;32m/Users/jannovergara/Documents/Github/fundamental-skills-bioinformatics/Python/pandas-coding-lecture.ipynb Cell 29\u001b[0m line \u001b[0;36m2\n\u001b[1;32m      <a href='vscode-notebook-cell:/Users/jannovergara/Documents/Github/fundamental-skills-bioinformatics/Python/pandas-coding-lecture.ipynb#X40sZmlsZQ%3D%3D?line=0'>1</a>\u001b[0m \u001b[39m# accessing a single value in a data frame\u001b[39;00m\n\u001b[0;32m----> <a href='vscode-notebook-cell:/Users/jannovergara/Documents/Github/fundamental-skills-bioinformatics/Python/pandas-coding-lecture.ipynb#X40sZmlsZQ%3D%3D?line=1'>2</a>\u001b[0m df\u001b[39m.\u001b[39;49mloc[\u001b[39m'\u001b[39;49m\u001b[39mPatient_6\u001b[39;49m\u001b[39m'\u001b[39;49m, \u001b[39m'\u001b[39;49m\u001b[39mSugar_consumption\u001b[39;49m\u001b[39m'\u001b[39;49m]\n",
      "File \u001b[0;32m/Library/Frameworks/Python.framework/Versions/3.11/lib/python3.11/site-packages/pandas/core/indexing.py:1096\u001b[0m, in \u001b[0;36m_LocationIndexer.__getitem__\u001b[0;34m(self, key)\u001b[0m\n\u001b[1;32m   1094\u001b[0m     key \u001b[39m=\u001b[39m \u001b[39mtuple\u001b[39m(com\u001b[39m.\u001b[39mapply_if_callable(x, \u001b[39mself\u001b[39m\u001b[39m.\u001b[39mobj) \u001b[39mfor\u001b[39;00m x \u001b[39min\u001b[39;00m key)\n\u001b[1;32m   1095\u001b[0m     \u001b[39mif\u001b[39;00m \u001b[39mself\u001b[39m\u001b[39m.\u001b[39m_is_scalar_access(key):\n\u001b[0;32m-> 1096\u001b[0m         \u001b[39mreturn\u001b[39;00m \u001b[39mself\u001b[39;49m\u001b[39m.\u001b[39;49mobj\u001b[39m.\u001b[39;49m_get_value(\u001b[39m*\u001b[39;49mkey, takeable\u001b[39m=\u001b[39;49m\u001b[39mself\u001b[39;49m\u001b[39m.\u001b[39;49m_takeable)\n\u001b[1;32m   1097\u001b[0m     \u001b[39mreturn\u001b[39;00m \u001b[39mself\u001b[39m\u001b[39m.\u001b[39m_getitem_tuple(key)\n\u001b[1;32m   1098\u001b[0m \u001b[39melse\u001b[39;00m:\n\u001b[1;32m   1099\u001b[0m     \u001b[39m# we by definition only have the 0th axis\u001b[39;00m\n",
      "File \u001b[0;32m/Library/Frameworks/Python.framework/Versions/3.11/lib/python3.11/site-packages/pandas/core/frame.py:3870\u001b[0m, in \u001b[0;36mDataFrame._get_value\u001b[0;34m(self, index, col, takeable)\u001b[0m\n\u001b[1;32m   3867\u001b[0m     series \u001b[39m=\u001b[39m \u001b[39mself\u001b[39m\u001b[39m.\u001b[39m_ixs(col, axis\u001b[39m=\u001b[39m\u001b[39m1\u001b[39m)\n\u001b[1;32m   3868\u001b[0m     \u001b[39mreturn\u001b[39;00m series\u001b[39m.\u001b[39m_values[index]\n\u001b[0;32m-> 3870\u001b[0m series \u001b[39m=\u001b[39m \u001b[39mself\u001b[39;49m\u001b[39m.\u001b[39;49m_get_item_cache(col)\n\u001b[1;32m   3871\u001b[0m engine \u001b[39m=\u001b[39m \u001b[39mself\u001b[39m\u001b[39m.\u001b[39mindex\u001b[39m.\u001b[39m_engine\n\u001b[1;32m   3873\u001b[0m \u001b[39mif\u001b[39;00m \u001b[39mnot\u001b[39;00m \u001b[39misinstance\u001b[39m(\u001b[39mself\u001b[39m\u001b[39m.\u001b[39mindex, MultiIndex):\n\u001b[1;32m   3874\u001b[0m     \u001b[39m# CategoricalIndex: Trying to use the engine fastpath may give incorrect\u001b[39;00m\n\u001b[1;32m   3875\u001b[0m     \u001b[39m#  results if our categories are integers that dont match our codes\u001b[39;00m\n\u001b[1;32m   3876\u001b[0m     \u001b[39m# IntervalIndex: IntervalTree has no get_loc\u001b[39;00m\n",
      "File \u001b[0;32m/Library/Frameworks/Python.framework/Versions/3.11/lib/python3.11/site-packages/pandas/core/frame.py:4255\u001b[0m, in \u001b[0;36mDataFrame._get_item_cache\u001b[0;34m(self, item)\u001b[0m\n\u001b[1;32m   4250\u001b[0m res \u001b[39m=\u001b[39m cache\u001b[39m.\u001b[39mget(item)\n\u001b[1;32m   4251\u001b[0m \u001b[39mif\u001b[39;00m res \u001b[39mis\u001b[39;00m \u001b[39mNone\u001b[39;00m:\n\u001b[1;32m   4252\u001b[0m     \u001b[39m# All places that call _get_item_cache have unique columns,\u001b[39;00m\n\u001b[1;32m   4253\u001b[0m     \u001b[39m#  pending resolution of GH#33047\u001b[39;00m\n\u001b[0;32m-> 4255\u001b[0m     loc \u001b[39m=\u001b[39m \u001b[39mself\u001b[39;49m\u001b[39m.\u001b[39;49mcolumns\u001b[39m.\u001b[39;49mget_loc(item)\n\u001b[1;32m   4256\u001b[0m     res \u001b[39m=\u001b[39m \u001b[39mself\u001b[39m\u001b[39m.\u001b[39m_ixs(loc, axis\u001b[39m=\u001b[39m\u001b[39m1\u001b[39m)\n\u001b[1;32m   4258\u001b[0m     cache[item] \u001b[39m=\u001b[39m res\n",
      "File \u001b[0;32m/Library/Frameworks/Python.framework/Versions/3.11/lib/python3.11/site-packages/pandas/core/indexes/base.py:3655\u001b[0m, in \u001b[0;36mIndex.get_loc\u001b[0;34m(self, key)\u001b[0m\n\u001b[1;32m   3653\u001b[0m     \u001b[39mreturn\u001b[39;00m \u001b[39mself\u001b[39m\u001b[39m.\u001b[39m_engine\u001b[39m.\u001b[39mget_loc(casted_key)\n\u001b[1;32m   3654\u001b[0m \u001b[39mexcept\u001b[39;00m \u001b[39mKeyError\u001b[39;00m \u001b[39mas\u001b[39;00m err:\n\u001b[0;32m-> 3655\u001b[0m     \u001b[39mraise\u001b[39;00m \u001b[39mKeyError\u001b[39;00m(key) \u001b[39mfrom\u001b[39;00m \u001b[39merr\u001b[39;00m\n\u001b[1;32m   3656\u001b[0m \u001b[39mexcept\u001b[39;00m \u001b[39mTypeError\u001b[39;00m:\n\u001b[1;32m   3657\u001b[0m     \u001b[39m# If we have a listlike key, _check_indexing_error will raise\u001b[39;00m\n\u001b[1;32m   3658\u001b[0m     \u001b[39m#  InvalidIndexError. Otherwise we fall through and re-raise\u001b[39;00m\n\u001b[1;32m   3659\u001b[0m     \u001b[39m#  the TypeError.\u001b[39;00m\n\u001b[1;32m   3660\u001b[0m     \u001b[39mself\u001b[39m\u001b[39m.\u001b[39m_check_indexing_error(key)\n",
      "\u001b[0;31mKeyError\u001b[0m: 'Sugar_consumption'"
     ]
    }
   ],
   "source": [
    "# accessing a single value in a data frame\n",
    "df.loc['Patient_6', 'Sugar_Consumption']"
   ]
  },
  {
   "cell_type": "code",
   "execution_count": null,
   "id": "c98803e3-ddf1-4cd7-9bc6-32c7987bb0d6",
   "metadata": {},
   "outputs": [],
   "source": [
    "# modifying a single value in a data frame\n",
    "df.loc['Patient_6', 'Sugar_consumption'] = 250\n",
    "df.loc['Patient_6', 'Sugar_consumption']"
   ]
  },
  {
   "cell_type": "markdown",
   "id": "c8ecddfc-c9e9-401a-b3a4-62f43f7840b9",
   "metadata": {},
   "source": [
    "The answer is yes, as demonstrated above. We can also change several value at once. Let's say that we want to cap all sugar consumption values above 200: "
   ]
  },
  {
   "cell_type": "code",
   "execution_count": null,
   "id": "cb484a8e-99f1-4745-aa0d-ca2a0d1f6c7c",
   "metadata": {},
   "outputs": [],
   "source": [
    "# recall that idx already identifies all patients with more than 200 in sugar consumption\n",
    "df.loc[idx, 'Sugar_consumption'] \n"
   ]
  },
  {
   "cell_type": "code",
   "execution_count": null,
   "id": "db1afcca-b007-4266-8a36-28634190cfc7",
   "metadata": {},
   "outputs": [],
   "source": [
    "# setting 200 as a limit for sugar consumption\n",
    "df.loc[idx, 'Sugar_consumption'] = 200\n",
    "df.loc[idx, 'Sugar_consumption'] "
   ]
  },
  {
   "cell_type": "code",
   "execution_count": null,
   "id": "84dcb848-5e06-43a2-8af9-b78207bd7d14",
   "metadata": {},
   "outputs": [],
   "source": [
    "# we can also set different values for each subjet\n",
    "df.loc[idx, 'Sugar_consumption'] = [191, 192, 193, 194, 195, 196, 197, 198, 199, 200]\n",
    "df.loc[idx, 'Sugar_consumption'] "
   ]
  },
  {
   "cell_type": "markdown",
   "id": "21d3be95-95ec-4189-83f6-3a385899755f",
   "metadata": {},
   "source": [
    "Adding a new column is also possible. Let's create a new Series oobject that indicates where LDL levels are excessively high, e.g., above 120"
   ]
  },
  {
   "cell_type": "code",
   "execution_count": null,
   "id": "43faa52e-7d50-41c9-82bf-5c0de96befb6",
   "metadata": {},
   "outputs": [],
   "source": [
    "# high levels of LDL\n",
    "high_LDL = df['LDL_levels'] > 120\n",
    "high_LDL"
   ]
  },
  {
   "cell_type": "markdown",
   "id": "c75e074d-0c95-4bb8-b254-ee20e84a485f",
   "metadata": {},
   "source": [
    "We can add this new column to `df` with the following command:"
   ]
  },
  {
   "cell_type": "code",
   "execution_count": null,
   "id": "ba8a9d29-e74c-4803-b6c6-45705e51466c",
   "metadata": {},
   "outputs": [],
   "source": [
    "# adding one more column\n",
    "df['High_LDL_levels'] = high_LDL\n",
    "df"
   ]
  },
  {
   "cell_type": "markdown",
   "id": "9c16ef02-a705-4111-8459-e35ee72aa50a",
   "metadata": {},
   "source": [
    "The same command would work if `high_LDL` were a simple list rather than a Series object."
   ]
  }
 ],
 "metadata": {
  "kernelspec": {
   "display_name": "Python 3",
   "language": "python",
   "name": "python3"
  },
  "language_info": {
   "codemirror_mode": {
    "name": "ipython",
    "version": 3
   },
   "file_extension": ".py",
   "mimetype": "text/x-python",
   "name": "python",
   "nbconvert_exporter": "python",
   "pygments_lexer": "ipython3",
   "version": "3.11.4"
  }
 },
 "nbformat": 4,
 "nbformat_minor": 5
}
